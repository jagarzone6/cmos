{
 "cells": [
  {
   "cell_type": "markdown",
   "metadata": {},
   "source": [
    "# CMOS - Taller Septiembre 27"
   ]
  },
  {
   "cell_type": "markdown",
   "metadata": {},
   "source": [
    "Simulacion de la figura 4,1,12 para llegar a la grafica de la figura 4,1,13"
   ]
  },
  {
   "cell_type": "code",
   "execution_count": 1,
   "metadata": {
    "collapsed": false
   },
   "outputs": [
    {
     "data": {
      "text/html": [
       "<img src=\"images/taller-sept-27/fig-4-1-12.png\"/>"
      ],
      "text/plain": [
       "<IPython.core.display.Image object>"
      ]
     },
     "metadata": {},
     "output_type": "display_data"
    }
   ],
   "source": [
    "from IPython.core.display import Image, display\n",
    "display(Image(url='images/taller-sept-27/fig-4-1-12.png'))"
   ]
  },
  {
   "cell_type": "code",
   "execution_count": 2,
   "metadata": {
    "collapsed": false
   },
   "outputs": [
    {
     "data": {
      "text/html": [
       "<img src=\"images/taller-sept-27/fig-4-1-13.png\"/>"
      ],
      "text/plain": [
       "<IPython.core.display.Image object>"
      ]
     },
     "metadata": {},
     "output_type": "display_data"
    }
   ],
   "source": [
    "from IPython.core.display import Image, display\n",
    "display(Image(url='images/taller-sept-27/fig-4-1-13.png'))"
   ]
  },
  {
   "cell_type": "markdown",
   "metadata": {},
   "source": [
    "SIMULACION CON NIVEL=1\n",
    "Archivo de ngspcie Fig-4-1-12_13_level-1.cir:"
   ]
  },
  {
   "cell_type": "raw",
   "metadata": {},
   "source": [
    "* Simulación Circuito De las figuras 4,1,12_13 CMOS Switch Level 1\n",
    "* Universidad Nacional de Colombia 2016\n",
    "* CMOS Analógico\n",
    "* Grupo Jorge Garzón, Esteban Iafrancesco A\n",
    "\n",
    "VDD VDD 0 DC 5 AC 0\n",
    "Vin Vin 0 DC 3 AC 0\n",
    "RL RLo 0 0.00000001\n",
    "VRL DRAIN RLo DC 0 AC 0\n",
    "M1 DRAIN VDD Vin 0 nmoslevel1 W=17 L=16\n",
    "M2 DRAIN 0 Vin 0 pmoslevel1 W=17 L=16\n",
    "\n",
    "\n",
    ".model nmoslevel1 nmos LEVEL=1 Vto=0.8 KP=120u LAMBDA=0.01 U0=650\n",
    ".model pmoslevel1 pmos LEVEL=1 Vto=-0.9 KP=40u LAMBDA=0.0125 U0=250\n",
    "\n",
    ".control\n",
    "set color0 =white\n",
    "set color1=black\n",
    "op\n",
    "show all\n",
    "dc vin 0 5 0.01\n",
    "plot vin/i(vrl)\n",
    ".endc\n"
   ]
  },
  {
   "cell_type": "code",
   "execution_count": 3,
   "metadata": {
    "collapsed": false
   },
   "outputs": [
    {
     "data": {
      "text/html": [
       "<img src=\"images/taller-sept-27/sim-fig-4-1-12-level1.png\"/>"
      ],
      "text/plain": [
       "<IPython.core.display.Image object>"
      ]
     },
     "metadata": {},
     "output_type": "display_data"
    }
   ],
   "source": [
    "from IPython.core.display import Image, display\n",
    "display(Image(url='images/taller-sept-27/sim-fig-4-1-12-level1.png'))"
   ]
  },
  {
   "cell_type": "markdown",
   "metadata": {},
   "source": [
    "SIMULACION CON NIVEL=3\n",
    "Archivo de ngspcie Fig-4-1-12_13_level-3.cir:"
   ]
  },
  {
   "cell_type": "raw",
   "metadata": {},
   "source": [
    "* Simulación Circuito De las figuras 4,1,12_13 CMOS Switch Level 3\n",
    "* Universidad Nacional de Colombia 2016\n",
    "* CMOS Analógico\n",
    "* Grupo Jorge Garzón, Esteban Iafrancesco A\n",
    "\n",
    "VDD VDD 0 DC 5 AC 0\n",
    "Vin Vin 0 DC 3 AC 0\n",
    "RL RLo 0 0.00000001\n",
    "VRL DRAIN RLo DC 0 AC 0\n",
    "M1 DRAIN VDD Vin 0 nmoslevel3 W=17 L=16\n",
    "M2 DRAIN 0 Vin 0 pmoslevel3 W=17 L=16\n",
    "\n",
    "\n",
    ".model nmoslevel3 nmos LEVEL=3 Vto=0.8 KP=120u LAMBDA=0.01 U0=650\n",
    ".model pmoslevel3 pmos LEVEL=3 Vto=-0.9 KP=40u LAMBDA=0.0125 U0=250\n",
    "\n",
    ".control\n",
    "set color0 =white\n",
    "set color1=black\n",
    "op\n",
    "show all\n",
    "dc vin 0 5 0.01\n",
    "plot vin/i(vrl)\n",
    ".endc"
   ]
  },
  {
   "cell_type": "code",
   "execution_count": 4,
   "metadata": {
    "collapsed": false
   },
   "outputs": [
    {
     "data": {
      "text/html": [
       "<img src=\"images/taller-sept-27/sim-fig-4-1-12-level3.png\"/>"
      ],
      "text/plain": [
       "<IPython.core.display.Image object>"
      ]
     },
     "metadata": {},
     "output_type": "display_data"
    }
   ],
   "source": [
    "from IPython.core.display import Image, display\n",
    "display(Image(url='images/taller-sept-27/sim-fig-4-1-12-level3.png'))"
   ]
  },
  {
   "cell_type": "code",
   "execution_count": null,
   "metadata": {
    "collapsed": true
   },
   "outputs": [],
   "source": []
  },
  {
   "cell_type": "code",
   "execution_count": null,
   "metadata": {
    "collapsed": true
   },
   "outputs": [],
   "source": []
  }
 ],
 "metadata": {
  "anaconda-cloud": {},
  "kernelspec": {
   "display_name": "Python [Root]",
   "language": "python",
   "name": "Python [Root]"
  },
  "language_info": {
   "codemirror_mode": {
    "name": "ipython",
    "version": 3
   },
   "file_extension": ".py",
   "mimetype": "text/x-python",
   "name": "python",
   "nbconvert_exporter": "python",
   "pygments_lexer": "ipython3",
   "version": "3.5.2"
  }
 },
 "nbformat": 4,
 "nbformat_minor": 0
}
