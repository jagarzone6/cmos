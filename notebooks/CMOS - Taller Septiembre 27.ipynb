{
 "cells": [
  {
   "cell_type": "markdown",
   "metadata": {},
   "source": [
    "# CMOS - Taller Septiembre 27"
   ]
  },
  {
   "cell_type": "markdown",
   "metadata": {},
   "source": [
    "# Simulacion del ejemplo  4,1"
   ]
  },
  {
   "cell_type": "code",
   "execution_count": 5,
   "metadata": {
    "collapsed": false
   },
   "outputs": [
    {
     "data": {
      "text/html": [
       "<img src=\"images/taller-sept-27/fig-4-1-9.png\"/>"
      ],
      "text/plain": [
       "<IPython.core.display.Image object>"
      ]
     },
     "metadata": {},
     "output_type": "display_data"
    }
   ],
   "source": [
    "from IPython.core.display import Image, display\n",
    "display(Image(url='images/taller-sept-27/fig-4-1-9.png'))"
   ]
  },
  {
   "cell_type": "markdown",
   "metadata": {},
   "source": [
    "\n",
    "* Bogotá 20 de Noviembre de 2015\n",
    "* Simulación ejemplo 4.1-1 Allen \n",
    "* Universidad Nacional de Colombia 2016\n",
    "* CMOS Analógico\n",
    "* Grupo Jorge Garzón, Esteban Iafrancesco A\n",
    "\n",
    "** A partir de la figura 4.1-9 del Allen, se definene los nodos VS, 0, VCL ** CL, CGD0, CGS0, CCH1=CCH/2, CCH2=CCH/2 VDD y RCH.  \n",
    "\n",
    "\n",
    "VDD VDD 0 DC 5 AC 0\n",
    "VS VS 0 DC 1 AC 0\n",
    "VCL VCL 0 \n",
    "RCH VS VCL 1000\n",
    "CL VCL 0 200f\n",
    "CGD0 VDD VS 220p\n",
    "CGS0 VDD VCL 220p\n",
    "CCH1 VDD VS 0.76p\n",
    "CCH2 VDD VCL 0.76p\n",
    "\n",
    "** .model level1 nmos LEVEL=1 Vto=0.7 KP=120u LAMBDA=0.01 U0=660\n",
    "\n",
    ".MODEL level3 NMOS\n",
    "+ TOX =200E-10\n",
    "+ PHI =0.7\n",
    "+ UO =650\n",
    "+ KP =120E-6\n",
    "+ RSH = 0\n",
    "+ XJ =500E-9\n",
    "+ CGDO =200E-12\n",
    "+ CJ =400E-6\n",
    "+ CJSW =300E-12 LEVEL = 3\n",
    "+ NSUB =1E17\n",
    "+ VTO =0.8\n",
    "+ ETA = 3.0E-6\n",
    "+ VMAX =1E5\n",
    "+ NFS =1E12\n",
    "+ LD = 100E-9\n",
    "+ CGSO =200E-12\n",
    "+ PB = 1\n",
    "+ MJSW =0.5\n",
    "+ GAMMA = 0.5\n",
    "+ DELTA = 3.0\n",
    "+ THETA = 0.1\n",
    "+ KAPPA = 0.3\n",
    "+ TPG = 1\n",
    "+ CGBO =1E-10\n",
    "+ MJ =0.5\n",
    "\n",
    ".control\n",
    "OP\n",
    "show all\n",
    "DC VCL 0 5 0.1\n",
    "** plot V(SOURCE)\n",
    ".endc"
   ]
  },
  {
   "cell_type": "markdown",
   "metadata": {},
   "source": [
    "# Simulacion de la figura 4,1,12 para llegar a la grafica de la figura 4,1,13"
   ]
  },
  {
   "cell_type": "code",
   "execution_count": 12,
   "metadata": {
    "collapsed": false
   },
   "outputs": [
    {
     "data": {
      "text/html": [
       "<img src=\"images/taller-sept-27/fig-4-1-12.png\"/>"
      ],
      "text/plain": [
       "<IPython.core.display.Image object>"
      ]
     },
     "metadata": {},
     "output_type": "display_data"
    }
   ],
   "source": [
    "from IPython.core.display import Image, display\n",
    "display(Image(url='images/taller-sept-27/fig-4-1-12.png'))"
   ]
  },
  {
   "cell_type": "code",
   "execution_count": 13,
   "metadata": {
    "collapsed": false
   },
   "outputs": [
    {
     "data": {
      "text/html": [
       "<img src=\"images/taller-sept-27/fig-4-1-13.png\"/>"
      ],
      "text/plain": [
       "<IPython.core.display.Image object>"
      ]
     },
     "metadata": {},
     "output_type": "display_data"
    }
   ],
   "source": [
    "from IPython.core.display import Image, display\n",
    "display(Image(url='images/taller-sept-27/fig-4-1-13.png'))"
   ]
  },
  {
   "cell_type": "markdown",
   "metadata": {},
   "source": [
    "SIMULACION CON NIVEL=1\n",
    "Archivo de ngspcie Fig-4-1-12_13_level-1.cir:"
   ]
  },
  {
   "cell_type": "markdown",
   "metadata": {},
   "source": [
    "* Simulación Circuito De las figuras 4,1,12_13 CMOS Switch Level 1\n",
    "* Universidad Nacional de Colombia 2016\n",
    "* CMOS Analógico\n",
    "* Grupo Jorge Garzón, Esteban Iafrancesco A\n",
    "\n",
    "VDD VDD 0 DC 5 AC 0\n",
    "Vin Vin 0 DC 3 AC 0\n",
    "RL RLo 0 0.00000001\n",
    "VRL DRAIN RLo DC 0 AC 0\n",
    "M1 DRAIN VDD Vin 0 nmoslevel1 W=17 L=16\n",
    "M2 DRAIN 0 Vin 0 pmoslevel1 W=17 L=16\n",
    "\n",
    "\n",
    ".model nmoslevel1 nmos LEVEL=1 Vto=0.8 KP=120u LAMBDA=0.01 U0=650\n",
    ".model pmoslevel1 pmos LEVEL=1 Vto=-0.9 KP=40u LAMBDA=0.0125 U0=250\n",
    "\n",
    ".control\n",
    "set color0 =white\n",
    "set color1=black\n",
    "op\n",
    "show all\n",
    "dc vin 0 5 0.01\n",
    "plot vin/i(vrl)\n",
    ".endc\n"
   ]
  },
  {
   "cell_type": "code",
   "execution_count": 14,
   "metadata": {
    "collapsed": false
   },
   "outputs": [
    {
     "data": {
      "text/html": [
       "<img src=\"images/taller-sept-27/sim-fig-4-1-12-level1.png\"/>"
      ],
      "text/plain": [
       "<IPython.core.display.Image object>"
      ]
     },
     "metadata": {},
     "output_type": "display_data"
    }
   ],
   "source": [
    "from IPython.core.display import Image, display\n",
    "display(Image(url='images/taller-sept-27/sim-fig-4-1-12-level1.png'))"
   ]
  },
  {
   "cell_type": "markdown",
   "metadata": {},
   "source": [
    "SIMULACION CON NIVEL=3\n",
    "Archivo de ngspcie Fig-4-1-12_13_level-3.cir:"
   ]
  },
  {
   "cell_type": "markdown",
   "metadata": {},
   "source": [
    "* Simulación Circuito De las figuras 4,1,12_13 CMOS Switch Level 3\n",
    "* Universidad Nacional de Colombia 2016\n",
    "* CMOS Analógico\n",
    "* Grupo Jorge Garzón, Esteban Iafrancesco A\n",
    "\n",
    "VDD VDD 0 DC 5 AC 0\n",
    "Vin Vin 0 DC 3 AC 0\n",
    "RL RLo 0 0.00000001\n",
    "VRL DRAIN RLo DC 0 AC 0\n",
    "M1 DRAIN VDD Vin 0 nmoslevel3 W=17 L=16\n",
    "M2 DRAIN 0 Vin 0 pmoslevel3 W=17 L=16\n",
    "\n",
    "\n",
    ".model nmoslevel3 nmos LEVEL=3 Vto=0.7 KP=110u LAMBDA=0.04 phi=0.7 gamma=0.4 DELTA=2.4 U0=660 ETA=0.1 KAPPA=0.15 THETA=0.1 NSUB=3E16 TOX=140E-10 XJ=0.2u WD=0.2u LD=0.016u NFS=7E11 cgso=220p cgdo=220p cgbo=700p cj=770u cjsw=380p mj=0.5 mjsw=0.38\n",
    ".model pmoslevel3 pmos LEVEL=3 Vto=-0.7 KP=50u LAMBDA=0.05 phi=0.8 gamma=0.57 DELTA=1.25 U0=210 ETA=0.1 KAPPA=2.5 THETA=0.1 NSUB=6E16 TOX=140E-10 XJ=0.2u WD=0.2u LD=0.015u NFS=6E11 cgso=220p cgdo=220p cgbo=700p cj=560u cjsw=350p mj=0.5 mjsw=0.35\n",
    "\n",
    ".control\n",
    "set color0 =white\n",
    "set color1=black\n",
    "op\n",
    "show all\n",
    "dc vin 0 5 0.01\n",
    "plot v(vin,rlo)/i(vrl)\n",
    ".endc"
   ]
  },
  {
   "cell_type": "code",
   "execution_count": 2,
   "metadata": {
    "collapsed": false
   },
   "outputs": [
    {
     "data": {
      "text/html": [
       "<img src=\"images/taller-sept-27/sim-fig-4-1-12-level3.png\"/>"
      ],
      "text/plain": [
       "<IPython.core.display.Image object>"
      ]
     },
     "metadata": {},
     "output_type": "display_data"
    }
   ],
   "source": [
    "from IPython.core.display import Image, display\n",
    "display(Image(url='images/taller-sept-27/sim-fig-4-1-12-level3.png'))"
   ]
  },
  {
   "cell_type": "markdown",
   "metadata": {},
   "source": [
    "# Simulacion del ejercicio 4.1.13"
   ]
  },
  {
   "cell_type": "code",
   "execution_count": 18,
   "metadata": {
    "collapsed": false
   },
   "outputs": [
    {
     "data": {
      "text/html": [
       "<img src=\"images/taller-sept-27/4-1-13.png\"/>"
      ],
      "text/plain": [
       "<IPython.core.display.Image object>"
      ]
     },
     "metadata": {},
     "output_type": "display_data"
    }
   ],
   "source": [
    "from IPython.core.display import Image, display\n",
    "display(Image(url='images/taller-sept-27/4-1-13.png'))"
   ]
  },
  {
   "cell_type": "markdown",
   "metadata": {},
   "source": [
    "SIMULACION CON NIVEL=3\n",
    "Rampa lenta !!\n",
    "Archivo de ngspcie Ejerc-4-1-13_level-3.cir:"
   ]
  },
  {
   "cell_type": "markdown",
   "metadata": {},
   "source": [
    "* Simulación Circuito Del ejercicio 4,1-13 CMOS Switch Level 3\n",
    "* Usando parametros de las tablas 3.1-2 y 3.2-1\n",
    "* Universidad Nacional de Colombia 2016\n",
    "* CMOS Analógico\n",
    "* Grupo Jorge Garzón, Esteban Iafrancesco A\n",
    "* PULSE ( V1 V2 TD TR TF PW PER )\n",
    "\n",
    "VDD VDD 0 PULSE(0 5 0 2NS 2NS 50NS 100NS )\n",
    "VDD_2 VDD_2 0 PULSE(5 0 0 2NS 2NS 50NS 100NS )\n",
    "Vin Vin 0 DC 2.5 AC 0\n",
    "C1 c1o 0 1p\n",
    "VC1 swo c1o DC 0 AC 0\n",
    "M1 swo VDD_2 Vin 0 nmoslevel3 W=1 L=1\n",
    "M2 Vin VDD swo 0 pmoslevel3 W=1 L=1\n",
    "\n",
    ".model nmoslevel3 nmos LEVEL=3 Vto=0.7 KP=110u LAMBDA=0.04 U0=650 gamma=0.4 phi=0.7 cgso=220p cgdo=220p cgbo=700p cj=770u cjsw=380p mj=0.5 mjsw=0.38\n",
    ".model pmoslevel3 pmos LEVEL=3 Vto=-0.7 KP=50u LAMBDA=0.05 U0=250 gamma=0.57 phi=0.8 cgso=220p cgdo=220p cgbo=700p cj=560u cjsw=350p mj=0.5 mjsw=0.35\n",
    "\n",
    ".tran .1ns 200ns\n",
    "\n",
    ".control\n",
    "set color0 =white\n",
    "set color1=black\n",
    "run\n",
    "plot vdd vdd_2 v(c1o)\n",
    ".endc"
   ]
  },
  {
   "cell_type": "markdown",
   "metadata": {},
   "source": [
    "Voltajes en los Gates de los transistores, Voltaje en el Capacitor Cl, con rampa lenta y nivel 3:"
   ]
  },
  {
   "cell_type": "code",
   "execution_count": 19,
   "metadata": {
    "collapsed": false
   },
   "outputs": [
    {
     "data": {
      "text/html": [
       "<img src=\"images/taller-sept-27/VCL-slow.png\"/>"
      ],
      "text/plain": [
       "<IPython.core.display.Image object>"
      ]
     },
     "metadata": {},
     "output_type": "display_data"
    }
   ],
   "source": [
    "from IPython.core.display import Image, display\n",
    "display(Image(url='images/taller-sept-27/VCL-slow.png'))"
   ]
  },
  {
   "cell_type": "markdown",
   "metadata": {},
   "source": [
    "SIMULACION CON NIVEL=3\n",
    "Rampa rapida !!\n",
    "Archivo de ngspcie Ejerc-4-1-13_level-3.cir:"
   ]
  },
  {
   "cell_type": "markdown",
   "metadata": {},
   "source": [
    "* Simulación Circuito Del ejercicio 4,1-13 CMOS Switch Level 3\n",
    "* Usando parametros de las tablas 3.1-2 y 3.2-1\n",
    "* Universidad Nacional de Colombia 2016\n",
    "* CMOS Analógico\n",
    "* Grupo Jorge Garzón, Esteban Iafrancesco A\n",
    "* PULSE ( V1 V2 TD TR TF PW PER )\n",
    "* VDD VDD 0 PULSE(0 5 0 2NS 2NS 50NS 100NS )\n",
    "* VDD_2 VDD_2 0 PULSE(5 0 0 2NS 2NS 50NS 100NS )\n",
    "\n",
    "VDD VDD 0 PULSE(0 5 0 0.2NS 0.2NS 50NS 100NS )\n",
    "VDD_2 VDD_2 0 PULSE(5 0 0 0.2NS 0.2NS 50NS 100NS )\n",
    "Vin Vin 0 DC 2.5 AC 0\n",
    "C1 c1o 0 1p\n",
    "VC1 swo c1o DC 0 AC 0\n",
    "M1 swo VDD Vin 0 nmoslevel3 W=1 L=1\n",
    "M2 Vin VDD_2 swo 0 pmoslevel3 W=1 L=1\n",
    "\n",
    ".model nmoslevel3 nmos LEVEL=3 Vto=0.7 KP=110u LAMBDA=0.04 U0=650 gamma=0.4 phi=0.7 cgso=220p cgdo=220p cgbo=700p cj=770u cjsw=380p mj=0.5 mjsw=0.38\n",
    ".model pmoslevel3 pmos LEVEL=3 Vto=-0.7 KP=50u LAMBDA=0.05 U0=250 gamma=0.57 phi=0.8 cgso=220p cgdo=220p cgbo=700p cj=560u cjsw=350p mj=0.5 mjsw=0.35\n",
    "\n",
    ".tran .1ns 200ns\n",
    "\n",
    ".control\n",
    "set color0 =white\n",
    "set color1=black\n",
    "run\n",
    "plot vdd vdd_2 v(c1o)\n",
    ".endc"
   ]
  },
  {
   "cell_type": "markdown",
   "metadata": {},
   "source": [
    "Voltajes en los Gates de los transistores, Voltaje en el Capacitor Cl, con rampa rapida y nivel 3:"
   ]
  },
  {
   "cell_type": "code",
   "execution_count": 20,
   "metadata": {
    "collapsed": false
   },
   "outputs": [
    {
     "data": {
      "text/html": [
       "<img src=\"images/taller-sept-27/VCL-fast.png\"/>"
      ],
      "text/plain": [
       "<IPython.core.display.Image object>"
      ]
     },
     "metadata": {},
     "output_type": "display_data"
    }
   ],
   "source": [
    "from IPython.core.display import Image, display\n",
    "display(Image(url='images/taller-sept-27/VCL-fast.png'))"
   ]
  },
  {
   "cell_type": "markdown",
   "metadata": {},
   "source": [
    "SIMULACION CON NIVEL=1\n",
    "Archivo de ngspcie Ejerc-4-1-13_level-3.cir:"
   ]
  },
  {
   "cell_type": "markdown",
   "metadata": {},
   "source": [
    "* Simulación Circuito Del ejercicio 4,1-13 CMOS Switch Level 3\n",
    "* Usando parametros de las tablas 3.1-2 y 3.2-1\n",
    "* Universidad Nacional de Colombia 2016\n",
    "* CMOS Analógico\n",
    "* Grupo Jorge Garzón, Esteban Iafrancesco A\n",
    "* PULSE ( V1 V2 TD TR TF PW PER )\n",
    "VDD VDD 0 PULSE(0 5 0 2NS 2NS 50NS 100NS )\n",
    "VDD_2 VDD_2 0 PULSE(5 0 0 2NS 2NS 50NS 100NS )\n",
    "\n",
    "*VDD VDD 0 PULSE(0 5 0 0 0 50NS 100NS )\n",
    "*VDD_2 VDD_2 0 PULSE(5 0 0 0 0 50NS 100NS )\n",
    "Vin Vin 0 DC 2.5 AC 0\n",
    "C1 c1o 0 1p\n",
    "VC1 swo c1o DC 0 AC 0\n",
    "M1 swo VDD Vin 0 nmoslevel1 W=1 L=1\n",
    "M2 Vin VDD_2 swo 0 pmoslevel1 W=1 L=1\n",
    "\n",
    ".model nmoslevel1 nmos LEVEL=1 Vto=0.7 KP=110u LAMBDA=0.04 U0=650 gamma=0.4 phi=0.7 cgso=220p cgdo=220p cgbo=700p cj=770u cjsw=380p mj=0.5 mjsw=0.38\n",
    ".model pmoslevel1 pmos LEVEL=1 Vto=-0.7 KP=50u LAMBDA=0.05 U0=250 gamma=0.57 phi=0.8 cgso=220p cgdo=220p cgbo=700p cj=560u cjsw=350p mj=0.5 mjsw=0.35\n",
    "\n",
    ".tran .1ns 1000ns\n",
    "\n",
    ".control\n",
    "set color0 =white\n",
    "set color1=black\n",
    "run\n",
    "plot vdd vdd_2 v(c1o)\n",
    ".endc"
   ]
  },
  {
   "cell_type": "markdown",
   "metadata": {},
   "source": [
    "Voltajes en los Gates de los transistores, Voltaje en el Capacitor Cl, con rampa lenta y nivel 1 (no hay diferencia notable con rampa rapida):"
   ]
  },
  {
   "cell_type": "code",
   "execution_count": 21,
   "metadata": {
    "collapsed": false
   },
   "outputs": [
    {
     "data": {
      "text/html": [
       "<img src=\"images/taller-sept-27/VCL-level1.png\"/>"
      ],
      "text/plain": [
       "<IPython.core.display.Image object>"
      ]
     },
     "metadata": {},
     "output_type": "display_data"
    }
   ],
   "source": [
    "from IPython.core.display import Image, display\n",
    "display(Image(url='images/taller-sept-27/VCL-level1.png'))"
   ]
  },
  {
   "cell_type": "markdown",
   "metadata": {},
   "source": [
    "# Simulacion del ejercicio 4.1.14"
   ]
  },
  {
   "cell_type": "code",
   "execution_count": 2,
   "metadata": {
    "collapsed": false
   },
   "outputs": [
    {
     "data": {
      "text/html": [
       "<img src=\"images/taller-sept-27/circuito4.1.14.png\"/>"
      ],
      "text/plain": [
       "<IPython.core.display.Image object>"
      ]
     },
     "metadata": {},
     "output_type": "display_data"
    }
   ],
   "source": [
    "from IPython.core.display import Image, display\n",
    "display(Image(url='images/taller-sept-27/circuito4.1.14.png'))"
   ]
  },
  {
   "cell_type": "markdown",
   "metadata": {},
   "source": [
    "SIMULACION Level=1\n",
    "Archivo de ngspcie ejercicio4.1.14.cir:"
   ]
  },
  {
   "cell_type": "markdown",
   "metadata": {},
   "source": [
    "* Bogotá 20 de Noviembre de 2016\n",
    "* Simulación ejercicio 4.1-14 Allen \n",
    "* Switch de cuatro transistores con RL = 1kOhm\n",
    "* Universidad Nacional de Colombia 2016\n",
    "* CMOS Analógico\n",
    "* Grupo Jorge Garzón, Esteban Iafrancesco A\n",
    "\n",
    "** \n",
    "\n",
    "VIN N1 0 DC 9 AC 0\n",
    "M1 N3 N1 N5 0 nmos W=6 L=2\n",
    "M2 N4 N6 N5 0 nmos W=6 L=2\n",
    "M3 N3 N1 N2 0 nmos W=6 L=2\n",
    "M4 N4 N6 N2 0 nmos W=6 L=2\n",
    "VOUT N6 0 \n",
    "RL N6 0 1000\n",
    "ICONTROL N5 N2 DC 0.0002 AC 0 \n",
    "\n",
    "\n",
    ".model nmos nmos LEVEL=1 Vto=0.75 KP=120u LAMBDA=0.01 U0=650\n",
    "\n",
    ".control\n",
    "OP\n",
    "show all\n",
    ".endc\n",
    "\t"
   ]
  },
  {
   "cell_type": "code",
   "execution_count": 3,
   "metadata": {
    "collapsed": false
   },
   "outputs": [
    {
     "data": {
      "text/html": [
       "<img src=\"images/taller-sept-27/simulacion4.1.14.png\"/>"
      ],
      "text/plain": [
       "<IPython.core.display.Image object>"
      ]
     },
     "metadata": {},
     "output_type": "display_data"
    }
   ],
   "source": [
    "from IPython.core.display import Image, display\n",
    "display(Image(url='images/taller-sept-27/simulacion4.1.14.png'))"
   ]
  },
  {
   "cell_type": "markdown",
   "metadata": {},
   "source": [
    "# Simulacion del ejercicio 4.3-6"
   ]
  },
  {
   "cell_type": "code",
   "execution_count": 22,
   "metadata": {
    "collapsed": false,
    "scrolled": true
   },
   "outputs": [
    {
     "data": {
      "text/html": [
       "<img src=\"images/taller-sept-27/4-3-6.png\"/>"
      ],
      "text/plain": [
       "<IPython.core.display.Image object>"
      ]
     },
     "metadata": {},
     "output_type": "display_data"
    }
   ],
   "source": [
    "from IPython.core.display import Image, display\n",
    "display(Image(url='images/taller-sept-27/4-3-6.png'))"
   ]
  },
  {
   "cell_type": "markdown",
   "metadata": {},
   "source": [
    "SIMULACION CON NIVEL=3\n",
    "Archivo de ngspcie Ejerc-4-3-6_level-3.cir:"
   ]
  },
  {
   "cell_type": "markdown",
   "metadata": {},
   "source": [
    "* Simulación Circuito Del ejercicio 4,3-6 CMOS Current mirror\n",
    "* Usando parametros de la tabla 3.4-1\n",
    "* Universidad Nacional de Colombia 2016\n",
    "* CMOS Analógico\n",
    "* Grupo Jorge Garzón, Esteban Iafrancesco A\n",
    "\n",
    "\n",
    "VDD vd 0 DC 5 AC 0\n",
    "IAA 0 GATE_M2 DC 5u AC 0\n",
    "IBB 0 GATE_M1 DC 5u AC 0\n",
    "RL vd DRAIN_M2 100k\n",
    "M1 DRAIN_M1 GATE_M1 0 0 nmoslevel3 W=4 L=1\n",
    "M2 DRAIN_M2 GATE_M2 DRAIN_M1 0 nmoslevel3 W=4 L=1\n",
    "M3 GATE_M1 GATE_M1 0 0 nmoslevel3_2 W=4 L=1\n",
    "M4 GATE_M2 GATE_M2 0 0 nmoslevel3_2 W=1 L=1\n",
    "\n",
    "\n",
    ".model nmoslevel3 nmos LEVEL=3 Vto=0.7 KP=110u LAMBDA=0.04 phi=0.7 gamma=0.4 DELTA=2.4 U0=660 ETA=0.1 KAPPA=0.15 THETA=0.1 NSUB=3E16 TOX=140E-10 XJ=0.2u WD=0.2u LD=0.016u NFS=7E11 cgso=220p cgdo=220p cgbo=700p cj=770u cjsw=380p mj=0.5 mjsw=0.38\n",
    ".model nmoslevel3_2 nmos LEVEL=3 Vto=0.7 KP=55u LAMBDA=0.04 phi=0.7 gamma=0.4 DELTA=2.4 U0=660 ETA=0.1 KAPPA=0.15 THETA=0.1 NSUB=3E16 TOX=140E-10 XJ=0.2u WD=0.2u LD=0.016u NFS=7E11 cgso=220p cgdo=220p cgbo=700p cj=770u cjsw=380p mj=0.5 mjsw=0.38\n",
    "\n",
    "\n",
    ".control\n",
    "set color0 =white\n",
    "set color1=black\n",
    "op\n",
    "show all\n",
    "dc vdd 0 5 0.01\n",
    "plot -i(vdd)\n",
    ".endc"
   ]
  },
  {
   "cell_type": "markdown",
   "metadata": {},
   "source": [
    "Grafico de la corriente de salida del circuito Iout vs Vout para la fuente de corriente disenada"
   ]
  },
  {
   "cell_type": "code",
   "execution_count": 23,
   "metadata": {
    "collapsed": false
   },
   "outputs": [
    {
     "data": {
      "text/html": [
       "<img src=\"images/taller-sept-27/sim-4-3-6.png\"/>"
      ],
      "text/plain": [
       "<IPython.core.display.Image object>"
      ]
     },
     "metadata": {},
     "output_type": "display_data"
    }
   ],
   "source": [
    "from IPython.core.display import Image, display\n",
    "display(Image(url='images/taller-sept-27/sim-4-3-6.png'))"
   ]
  },
  {
   "cell_type": "markdown",
   "metadata": {},
   "source": [
    "Diseño en electric del circuito:\n",
    "Archivo Ej-4-3-6.jelib"
   ]
  },
  {
   "cell_type": "code",
   "execution_count": 1,
   "metadata": {
    "collapsed": false
   },
   "outputs": [
    {
     "data": {
      "text/html": [
       "<img src=\"images/taller-sept-27/electric.png\"/>"
      ],
      "text/plain": [
       "<IPython.core.display.Image object>"
      ]
     },
     "metadata": {},
     "output_type": "display_data"
    }
   ],
   "source": [
    "from IPython.core.display import Image, display\n",
    "display(Image(url='images/taller-sept-27/electric.png'))"
   ]
  }
 ],
 "metadata": {
  "anaconda-cloud": {},
  "kernelspec": {
   "display_name": "Python [Root]",
   "language": "python",
   "name": "Python [Root]"
  },
  "language_info": {
   "codemirror_mode": {
    "name": "ipython",
    "version": 3
   },
   "file_extension": ".py",
   "mimetype": "text/x-python",
   "name": "python",
   "nbconvert_exporter": "python",
   "pygments_lexer": "ipython3",
   "version": "3.5.2"
  }
 },
 "nbformat": 4,
 "nbformat_minor": 0
}
