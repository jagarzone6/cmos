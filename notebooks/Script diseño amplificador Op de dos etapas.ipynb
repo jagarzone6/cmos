{
 "cells": [
  {
   "cell_type": "markdown",
   "metadata": {},
   "source": [
    "Diseño del Ampl Operacionalde dos etapas"
   ]
  },
  {
   "cell_type": "markdown",
   "metadata": {},
   "source": [
    "PARAMETROS DE DISEÑO:"
   ]
  },
  {
   "cell_type": "code",
   "execution_count": 1347,
   "metadata": {
    "collapsed": true
   },
   "outputs": [],
   "source": [
    "SR_o=3/(1e-6)\n",
    "Cl=10e-12\n",
    "Kn=110e-6\n",
    "Kp=50e-6\n",
    "Voutmax=2\n",
    "Voutmin=-2\n",
    "Vinmax=2\n",
    "Vinmin=-1\n",
    "Vdd=2.5\n",
    "Vss=-2.5\n",
    "Vtomax=0.85\n",
    "Vtomin=0.55\n",
    "GB=50e3\n",
    "Lambda2=0.04\n",
    "Lambda3=0.05"
   ]
  },
  {
   "cell_type": "code",
   "execution_count": 1348,
   "metadata": {
    "collapsed": false
   },
   "outputs": [
    {
     "data": {
      "text/plain": [
       "30000000.0"
      ]
     },
     "execution_count": 1348,
     "metadata": {},
     "output_type": "execute_result"
    }
   ],
   "source": [
    "SR=SR_o*10\n",
    "#SR=SR_o*10\n",
    "SR"
   ]
  },
  {
   "cell_type": "code",
   "execution_count": 1349,
   "metadata": {
    "collapsed": false
   },
   "outputs": [
    {
     "data": {
      "text/plain": [
       "4.3999999999999994e-13"
      ]
     },
     "execution_count": 1349,
     "metadata": {},
     "output_type": "execute_result"
    }
   ],
   "source": [
    "Cc_calculado=0.044*Cl\n",
    "#Cc_calculado=0.022*Cl\n",
    "Cc_calculado"
   ]
  },
  {
   "cell_type": "code",
   "execution_count": 1350,
   "metadata": {
    "collapsed": false
   },
   "outputs": [
    {
     "data": {
      "text/plain": [
       "7.039999999999999e-13"
      ]
     },
     "execution_count": 1350,
     "metadata": {},
     "output_type": "execute_result"
    }
   ],
   "source": [
    "Cc=Cc_calculado*1.6\n",
    "Cc"
   ]
  },
  {
   "cell_type": "code",
   "execution_count": 1351,
   "metadata": {
    "collapsed": false
   },
   "outputs": [
    {
     "data": {
      "text/plain": [
       "2.1119999999999998e-05"
      ]
     },
     "execution_count": 1351,
     "metadata": {},
     "output_type": "execute_result"
    }
   ],
   "source": [
    "I5=SR*Cc\n",
    "I5"
   ]
  },
  {
   "cell_type": "code",
   "execution_count": 1352,
   "metadata": {
    "collapsed": false
   },
   "outputs": [
    {
     "data": {
      "text/plain": [
       "1.0559999999999999e-05"
      ]
     },
     "execution_count": 1352,
     "metadata": {},
     "output_type": "execute_result"
    }
   ],
   "source": [
    "I3=I5/2\n",
    "I3"
   ]
  },
  {
   "cell_type": "code",
   "execution_count": 1353,
   "metadata": {
    "collapsed": false
   },
   "outputs": [
    {
     "data": {
      "text/plain": [
       "10.55999999999999"
      ]
     },
     "execution_count": 1353,
     "metadata": {},
     "output_type": "execute_result"
    }
   ],
   "source": [
    "S3=I5/(Kp*(Vdd-Vinmax-Vtomax+Vtomin)*(Vdd-Vinmax-Vtomax+Vtomin))\n",
    "S3"
   ]
  },
  {
   "cell_type": "code",
   "execution_count": 1354,
   "metadata": {
    "collapsed": false
   },
   "outputs": [
    {
     "data": {
      "text/plain": [
       "10.55999999999999"
      ]
     },
     "execution_count": 1354,
     "metadata": {},
     "output_type": "execute_result"
    }
   ],
   "source": [
    "S4=S3\n",
    "S4"
   ]
  },
  {
   "cell_type": "code",
   "execution_count": 1355,
   "metadata": {
    "collapsed": false
   },
   "outputs": [
    {
     "data": {
      "text/plain": [
       "11"
      ]
     },
     "execution_count": 1355,
     "metadata": {},
     "output_type": "execute_result"
    }
   ],
   "source": [
    "import math\n",
    "S3_final=round(S3)\n",
    "S3_final"
   ]
  },
  {
   "cell_type": "code",
   "execution_count": 1356,
   "metadata": {
    "collapsed": false
   },
   "outputs": [
    {
     "data": {
      "text/plain": [
       "11"
      ]
     },
     "execution_count": 1356,
     "metadata": {},
     "output_type": "execute_result"
    }
   ],
   "source": [
    "S4_final=S3_final\n",
    "S4_final"
   ]
  },
  {
   "cell_type": "code",
   "execution_count": 1357,
   "metadata": {
    "collapsed": false
   },
   "outputs": [
    {
     "data": {
      "text/plain": [
       "25000000.0"
      ]
     },
     "execution_count": 1357,
     "metadata": {},
     "output_type": "execute_result"
    }
   ],
   "source": [
    "#GB_final=GB*1000\n",
    "GB_final=GB*500\n",
    "GB_final"
   ]
  },
  {
   "cell_type": "code",
   "execution_count": 1358,
   "metadata": {
    "collapsed": false
   },
   "outputs": [
    {
     "data": {
      "text/plain": [
       "0.0001105840614063607"
      ]
     },
     "execution_count": 1358,
     "metadata": {},
     "output_type": "execute_result"
    }
   ],
   "source": [
    "Gm1=GB_final*Cc*2*math.pi\n",
    "Gm2=Gm1\n",
    "Gm1"
   ]
  },
  {
   "cell_type": "code",
   "execution_count": 1359,
   "metadata": {
    "collapsed": false
   },
   "outputs": [
    {
     "data": {
      "text/plain": [
       "5.263789013914323"
      ]
     },
     "execution_count": 1359,
     "metadata": {},
     "output_type": "execute_result"
    }
   ],
   "source": [
    "S1=(Gm1*Gm1)/(2*Kn*I3)\n",
    "S1"
   ]
  },
  {
   "cell_type": "code",
   "execution_count": 1360,
   "metadata": {
    "collapsed": false
   },
   "outputs": [
    {
     "data": {
      "text/plain": [
       "5"
      ]
     },
     "execution_count": 1360,
     "metadata": {},
     "output_type": "execute_result"
    }
   ],
   "source": [
    "S1_final=round(S1)\n",
    "S1_final\n",
    "S2_final=S1_final\n",
    "S2_final"
   ]
  },
  {
   "cell_type": "code",
   "execution_count": 1361,
   "metadata": {
    "collapsed": false
   },
   "outputs": [
    {
     "data": {
      "text/plain": [
       "0.45404082057734574"
      ]
     },
     "execution_count": 1361,
     "metadata": {},
     "output_type": "execute_result"
    }
   ],
   "source": [
    "Vds5_sat=Vinmin-Vss-math.sqrt(I5/(Kn*S1_final))-Vtomax\n",
    "Vds5_sat"
   ]
  },
  {
   "cell_type": "code",
   "execution_count": 1362,
   "metadata": {
    "collapsed": false
   },
   "outputs": [
    {
     "data": {
      "text/plain": [
       "1.8626936094268722"
      ]
     },
     "execution_count": 1362,
     "metadata": {},
     "output_type": "execute_result"
    }
   ],
   "source": [
    "S5=(2*I5)/(Kn*Vds5_sat*Vds5_sat)\n",
    "S5"
   ]
  },
  {
   "cell_type": "code",
   "execution_count": 1363,
   "metadata": {
    "collapsed": false
   },
   "outputs": [
    {
     "data": {
      "text/plain": [
       "2"
      ]
     },
     "execution_count": 1363,
     "metadata": {},
     "output_type": "execute_result"
    }
   ],
   "source": [
    "S5_final=round(S5)\n",
    "S5_final"
   ]
  },
  {
   "cell_type": "code",
   "execution_count": 1364,
   "metadata": {
    "collapsed": false,
    "scrolled": false
   },
   "outputs": [
    {
     "data": {
      "text/plain": [
       "0.0011058406140636071"
      ]
     },
     "execution_count": 1364,
     "metadata": {},
     "output_type": "execute_result"
    }
   ],
   "source": [
    "Gm6=Gm1*10\n",
    "Gm6"
   ]
  },
  {
   "cell_type": "code",
   "execution_count": 1365,
   "metadata": {
    "collapsed": false
   },
   "outputs": [
    {
     "data": {
      "text/plain": [
       "0.00012164246754699678"
      ]
     },
     "execution_count": 1365,
     "metadata": {},
     "output_type": "execute_result"
    }
   ],
   "source": [
    "S6_final=100\n",
    "Gm4=S4_final*Gm6/S6_final\n",
    "Gm4"
   ]
  },
  {
   "cell_type": "code",
   "execution_count": 1366,
   "metadata": {
    "collapsed": false
   },
   "outputs": [
    {
     "data": {
      "text/plain": [
       "100.0"
      ]
     },
     "execution_count": 1366,
     "metadata": {},
     "output_type": "execute_result"
    }
   ],
   "source": [
    "S6_final=S4_final*Gm6/Gm4\n",
    "S6_final"
   ]
  },
  {
   "cell_type": "code",
   "execution_count": 1367,
   "metadata": {
    "collapsed": false
   },
   "outputs": [
    {
     "data": {
      "text/plain": [
       "0.00012228834637125757"
      ]
     },
     "execution_count": 1367,
     "metadata": {},
     "output_type": "execute_result"
    }
   ],
   "source": [
    "I6=Gm6*Gm6/(2*Kp*S6_final)\n",
    "I6"
   ]
  },
  {
   "cell_type": "code",
   "execution_count": 1368,
   "metadata": {
    "collapsed": false
   },
   "outputs": [
    {
     "data": {
      "text/plain": [
       "11.580335830611514"
      ]
     },
     "execution_count": 1368,
     "metadata": {},
     "output_type": "execute_result"
    }
   ],
   "source": [
    "S7=S5_final*(I6/I5)\n",
    "S7"
   ]
  },
  {
   "cell_type": "code",
   "execution_count": 1369,
   "metadata": {
    "collapsed": false
   },
   "outputs": [
    {
     "data": {
      "text/plain": [
       "12"
      ]
     },
     "execution_count": 1369,
     "metadata": {},
     "output_type": "execute_result"
    }
   ],
   "source": [
    "S7_final=round(S7)\n",
    "S7_final"
   ]
  },
  {
   "cell_type": "code",
   "execution_count": 1370,
   "metadata": {
    "collapsed": false
   },
   "outputs": [
    {
     "data": {
      "text/plain": [
       "0.0009282417318562878"
      ]
     },
     "execution_count": 1370,
     "metadata": {},
     "output_type": "execute_result"
    }
   ],
   "source": [
    "Pdis=(Vdd-Vss)*(3*I5+I6)\n",
    "Pdis"
   ]
  },
  {
   "cell_type": "code",
   "execution_count": 1371,
   "metadata": {
    "collapsed": false
   },
   "outputs": [
    {
     "data": {
      "text/plain": [
       "11690.983913206137"
      ]
     },
     "execution_count": 1371,
     "metadata": {},
     "output_type": "execute_result"
    }
   ],
   "source": [
    "Av=2*Gm2*Gm6/(I5*(Lambda2+Lambda3)*(Lambda2+Lambda3)*I6)\n",
    "Av"
   ]
  },
  {
   "cell_type": "code",
   "execution_count": 1372,
   "metadata": {
    "collapsed": false
   },
   "outputs": [
    {
     "data": {
      "text/plain": [
       "81.35702125847115"
      ]
     },
     "execution_count": 1372,
     "metadata": {},
     "output_type": "execute_result"
    }
   ],
   "source": [
    "AV_db=20*math.log10(Av)\n",
    "AV_db"
   ]
  },
  {
   "cell_type": "code",
   "execution_count": 1373,
   "metadata": {
    "collapsed": false
   },
   "outputs": [
    {
     "data": {
      "text/plain": [
       "1.6e-06"
      ]
     },
     "execution_count": 1373,
     "metadata": {},
     "output_type": "execute_result"
    }
   ],
   "source": [
    "L_base=2*800e-9\n",
    "L_base"
   ]
  },
  {
   "cell_type": "code",
   "execution_count": 1374,
   "metadata": {
    "collapsed": false
   },
   "outputs": [
    {
     "data": {
      "text/plain": [
       "8e-06"
      ]
     },
     "execution_count": 1374,
     "metadata": {},
     "output_type": "execute_result"
    }
   ],
   "source": [
    "W1=S1_final*L_base\n",
    "L1=L_base\n",
    "W1"
   ]
  },
  {
   "cell_type": "code",
   "execution_count": 1375,
   "metadata": {
    "collapsed": false
   },
   "outputs": [
    {
     "data": {
      "text/plain": [
       "1.6e-06"
      ]
     },
     "execution_count": 1375,
     "metadata": {},
     "output_type": "execute_result"
    }
   ],
   "source": [
    "L1"
   ]
  },
  {
   "cell_type": "code",
   "execution_count": 1376,
   "metadata": {
    "collapsed": false
   },
   "outputs": [
    {
     "data": {
      "text/plain": [
       "8e-06"
      ]
     },
     "execution_count": 1376,
     "metadata": {},
     "output_type": "execute_result"
    }
   ],
   "source": [
    "W2=S2_final*L_base\n",
    "L2=L_base\n",
    "W2"
   ]
  },
  {
   "cell_type": "code",
   "execution_count": 1377,
   "metadata": {
    "collapsed": false
   },
   "outputs": [
    {
     "data": {
      "text/plain": [
       "1.6e-06"
      ]
     },
     "execution_count": 1377,
     "metadata": {},
     "output_type": "execute_result"
    }
   ],
   "source": [
    "L2"
   ]
  },
  {
   "cell_type": "code",
   "execution_count": 1378,
   "metadata": {
    "collapsed": false
   },
   "outputs": [
    {
     "data": {
      "text/plain": [
       "1.76e-05"
      ]
     },
     "execution_count": 1378,
     "metadata": {},
     "output_type": "execute_result"
    }
   ],
   "source": [
    "W3=S3_final*L_base\n",
    "L3=L_base\n",
    "W3"
   ]
  },
  {
   "cell_type": "code",
   "execution_count": 1379,
   "metadata": {
    "collapsed": false
   },
   "outputs": [
    {
     "data": {
      "text/plain": [
       "1.6e-06"
      ]
     },
     "execution_count": 1379,
     "metadata": {},
     "output_type": "execute_result"
    }
   ],
   "source": [
    "L3"
   ]
  },
  {
   "cell_type": "code",
   "execution_count": 1380,
   "metadata": {
    "collapsed": false
   },
   "outputs": [
    {
     "data": {
      "text/plain": [
       "1.76e-05"
      ]
     },
     "execution_count": 1380,
     "metadata": {},
     "output_type": "execute_result"
    }
   ],
   "source": [
    "W4=S4_final*L_base\n",
    "L4=L_base\n",
    "W4"
   ]
  },
  {
   "cell_type": "code",
   "execution_count": 1381,
   "metadata": {
    "collapsed": false
   },
   "outputs": [
    {
     "data": {
      "text/plain": [
       "1.6e-06"
      ]
     },
     "execution_count": 1381,
     "metadata": {},
     "output_type": "execute_result"
    }
   ],
   "source": [
    "L4"
   ]
  },
  {
   "cell_type": "code",
   "execution_count": 1382,
   "metadata": {
    "collapsed": false
   },
   "outputs": [
    {
     "data": {
      "text/plain": [
       "3.2e-06"
      ]
     },
     "execution_count": 1382,
     "metadata": {},
     "output_type": "execute_result"
    }
   ],
   "source": [
    "W5=S5_final*L_base\n",
    "L5=L_base\n",
    "W5"
   ]
  },
  {
   "cell_type": "code",
   "execution_count": 1383,
   "metadata": {
    "collapsed": false
   },
   "outputs": [
    {
     "data": {
      "text/plain": [
       "0.00015999999999999999"
      ]
     },
     "execution_count": 1383,
     "metadata": {},
     "output_type": "execute_result"
    }
   ],
   "source": [
    "W6=S6_final*L_base\n",
    "L6=L_base\n",
    "W6"
   ]
  },
  {
   "cell_type": "code",
   "execution_count": 1384,
   "metadata": {
    "collapsed": false
   },
   "outputs": [
    {
     "data": {
      "text/plain": [
       "1.92e-05"
      ]
     },
     "execution_count": 1384,
     "metadata": {},
     "output_type": "execute_result"
    }
   ],
   "source": [
    "W7=S7_final*L_base\n",
    "L7=L_base\n",
    "W7"
   ]
  },
  {
   "cell_type": "code",
   "execution_count": 1385,
   "metadata": {
    "collapsed": false
   },
   "outputs": [
    {
     "data": {
      "text/plain": [
       "5.28e-13"
      ]
     },
     "execution_count": 1385,
     "metadata": {},
     "output_type": "execute_result"
    }
   ],
   "source": [
    "#Cc_final=Cc*0.91\n",
    "Cc_final=Cc*0.75\n",
    "Cc_final"
   ]
  },
  {
   "cell_type": "markdown",
   "metadata": {},
   "source": [
    "Calculo Rbias del Multiplicador Beta"
   ]
  },
  {
   "cell_type": "code",
   "execution_count": 1386,
   "metadata": {
    "collapsed": false
   },
   "outputs": [
    {
     "data": {
      "text/plain": [
       "4639.185118907534"
      ]
     },
     "execution_count": 1386,
     "metadata": {},
     "output_type": "execute_result"
    }
   ],
   "source": [
    "#Rbias=math.sqrt(2/(I5/2*Kn*5))*(1-1/(math.sqrt(4)))\n",
    "Rbias=math.sqrt(2/(2*I5*Kn*5))*(1-1/(math.sqrt(4)))\n",
    "Rbias"
   ]
  },
  {
   "cell_type": "code",
   "execution_count": 1387,
   "metadata": {
    "collapsed": false
   },
   "outputs": [],
   "source": [
    "import sys\n",
    "import fileinput\n",
    "def modificar_cir_Op_Amp_Two_Stages(W1,W2,W3,W4,W5,W6,W7,W8,L,Cc,I5,Rbias):\n",
    "    text=\"* Simulación Circuito Amplificador Operacional de dos etapas\"+\"\\n\"+ \\\n",
    "    \"* Universidad Nacional de Colombia 2016\"+\"\\n\"+ \\\n",
    "    \"* CMOS Analógico\"+\"\\n\"+ \\\n",
    "    \"* Grupo Jorge Garzón, Esteban Iafrancesco A\"+\"\\n\"+ \\\n",
    "    \"\\n\"+\\\n",
    "    \"Vdd_1 Vdd_1 0 DC 2.5 AC 0\"+\"\\n\"+\\\n",
    "    \"Vss_1 Vss_1 0 DC -2.5 AC 0\"+\"\\n\"+\"\\n\"+\\\n",
    "    \"Vin2_1 vinM2_1 0 DC 0 AC 0\"+\"\\n\"+\\\n",
    "    \"////////////------////////////////////\"+\"\\n\"+\\\n",
    "    \"*Circuito del amplificador operacional de dos etapas\"+\"\\n\"+\\\n",
    "    \"M1_1 drainM1_1 vinM1_1 sourceM1_1 Vss_1 nmosG W=\"+str(W1)+\" L=\"+str(L)+\"\\n\"+\\\n",
    "    \"M2_1 drainM2_1 vinM2_1 sourceM1_1 Vss_1 nmosG W=\"+str(W2)+\" L=\"+str(L)+\"\\n\"+\\\n",
    "    \"\\n\"+\\\n",
    "    \"M3_1 drainM1_1 drainM1_1 Vdd_1 Vdd_1 pmosG W=\"+str(W3)+\" L=\"+str(L)+\"\\n\"+\\\n",
    "    \"M4_1 drainM2_1 drainM1_1 Vdd_1 Vdd_1 pmosG W=\"+str(W4)+\" L=\"+str(L)+\"\\n\"+\\\n",
    "    \"\\n\"+\\\n",
    "    \"M5_1 sourceM1_1 vbiasM5_1 Vss_1 Vss_1 nmosG W=\"+str(W5)+\" L=\"+str(L)+\"\\n\"+\\\n",
    "    \"\\n\"+\\\n",
    "    \"M6_1 vout_1 drainM2_1 Vdd_1 Vdd_1 pmosG W=\"+str(W6)+\" L=\"+str(L)+\"\\n\"+\\\n",
    "    \"\\n\"+\\\n",
    "    \"M7_1 vout_1 vbiasM5_1 Vss_1 Vss_1 nmosG W=\"+str(W7)+\" L=\"+str(L)+\"\\n\"+\\\n",
    "    \"\\n\"+\\\n",
    "    \"Cl_1 vout_1 0 10p\"+\"\\n\"+\\\n",
    "    \"Cc_1 vout_1 drainM2_1 \"+str(Cc)+\"\\n\"+\\\n",
    "    \"////////////------////////////////////\"+\"\\n\"+\\\n",
    "    \"*Circuito del multiplicador beta\"+\"\\n\"+\\\n",
    "    \"MB1_1 vbiasM5_1 vbiasM5_1 Vss_1 Vss_1 nmosG W=8u L=1.6u\"+\"\\n\"+\\\n",
    "    \"MB2_1 drainMB2_1 vbiasM5_1 RBref_1 Vss_1 nmosG W=32u L=1.6u\"+\"\\n\"+\\\n",
    "    \"RBref_1 RBref_1 RBref2_1 \"+str(Rbias)+\"\\n\"+\\\n",
    "    \"MB3_1 vbiasM5_1 drainMB2_1 Vdd_1 Vdd_1 pmosG W=24u L=1.6u\"+\"\\n\"+\\\n",
    "    \"MB4_1 drainMB2_1 drainMB2_1 Vdd_1 Vdd_1 pmosG W=24u L=1.6u\"+\"\\n\"+\\\n",
    "    \"\\n\"+\\\n",
    "    \"VRLref_1 RBref2_1 Vss_1 DC 0 AC 0\"+\"\\n\"+\\\n",
    "    \"////////////------////////////////////\"+\"\\n\"+\\\n",
    "    \"\\n\"+\\\n",
    "    \"*Fuente AC en vinM1_1\"+\"\\n\"+\\\n",
    "    \"Vinac_1 vinM1_1 0 sin(0 0.0001 1k) dc=0 ac=0.0001\"+\"\\n\"+\\\n",
    "    \"\\n\"+\\\n",
    "    \"* Modelos para tecnología 0.8u < L < 200u 10u < W < 10000u  Vdd=2.5V (Allen)\"+\"\\n\"+\\\n",
    "    \"* lambda cambia de acuerdo con la longitud del canal\"+\"\\n\"+\\\n",
    "    \"* nMOS: lambda=0.04 para L=1u y lambda=0.01 para L=2u\"+\"\\n\"+\\\n",
    "    \"* pMOS: lambda=0.05 para L=1u y lambda=0.01 para L=2u\"+\"\\n\"+\\\n",
    "    \"\\n\"+\\\n",
    "    \".model nmosG nmos level=2\"+\"\\n\"+\\\n",
    "    \"+ vto = 0.7 kp = 110e-6 gamma = 0.4 phi = 0.7\"+\"\\n\"+\\\n",
    "    \"+ tox = 14e-9 cj = 770e-6 cjsw = 380e-12 mj = 0.5 mjsw = 0.38\"+\"\\n\"+\\\n",
    "    \"+ cgso = 220e-12 cgdo = 220e-12 cgbo = 700e-12\"+\"\\n\"+\\\n",
    "    \"+ lambda = 0.04\"+\"\\n\"+\\\n",
    "    \"\\n\"+\\\n",
    "    \".model pmosG pmos level=2\"+\"\\n\"+\\\n",
    "    \"+ vto = -0.7 kp = 50e-6 gamma = 0.57 phi = 0.8\"+\"\\n\"+\\\n",
    "    \"+ tox = 14e-9 cj = 560e-6 cjsw = 350e-12 mj = 0.5 mjsw = 0.35\"+\"\\n\"+\\\n",
    "    \"+ cgso = 220e-12 cgdo = 220e-12 cgbo = 700e-12\"+\"\\n\"+\\\n",
    "    \"+ lambda = 0.05\"+\"\\n\"+\\\n",
    "    \"\\n\"+\\\n",
    "    \".control\"+\"\\n\"+\\\n",
    "    \"set color0 =white\"+\"\\n\"+\\\n",
    "    \"set color1=black\"+\"\\n\"+\\\n",
    "    \"op\"+\"\\n\"+\\\n",
    "    \"show all\"+\"\\n\"+\\\n",
    "    \"\\n\"+\\\n",
    "    \"*Ganacia en AC barrido en frecuencia vout/vin AC\"+\"\\n\"+\\\n",
    "    \"ac dec 10 1 10ghz\"+\"\\n\"+\\\n",
    "    \"\\n\"+\\\n",
    "    \"*Ganancia en decibeles\"+\"\\n\"+\\\n",
    "    \"plot db(mag(v(vout_1))/mag(v(vinm1_1)))\"+\"\\n\"+\\\n",
    "    \"*Ganancia en magnitud V/V\"+\"\\n\"+\\\n",
    "    \"*plot mag(v(vout_1))/mag(v(vinm1_1))\"+\"\\n\"+\\\n",
    "    \"*phase plot vout_1/vin\"+\"\\n\"+\\\n",
    "    \"plot ph(v(vout_1)/v(vinm1_1))*360/(2*pi)\"+\"\\n\"+\\\n",
    "    \"\\n\"+\\\n",
    "    \"*Transitorio\"+\"\\n\"+\\\n",
    "    \"tran .00001s .01s\"+\"\\n\"+\\\n",
    "    \"*Vout vs Vin\"+\"\\n\"+\\\n",
    "    \"*plot v(vout_1) v(vinm1_1)\"+\"\\n\"+\\\n",
    "    \"*Potencia discipada en el circuito (Vdd_1-Vss_1)*Itotal\"+\"\\n\"+\\\n",
    "    \"plot v(Vdd_1,Vss_1)*vss_1#branch\"+\"\\n\"+\\\n",
    "    \".endc\"+\"\\n\"\n",
    "    for i, line in enumerate(fileinput.input('../ngspice-simulations/Script-Op-Amplifier-Two-Stages.cir', inplace=1)):\n",
    "        if i == 1: sys.stdout.write(text) # replace 'sit' and write\n",
    "    fileinput.close()"
   ]
  },
  {
   "cell_type": "code",
   "execution_count": 1388,
   "metadata": {
    "collapsed": true
   },
   "outputs": [],
   "source": [
    "import sys\n",
    "import fileinput\n",
    "def modificar_cir_Op_Amp_Two_Stages_slew_rate(W1,W2,W3,W4,W5,W6,W7,W8,L,Cc,I5,Rbias):\n",
    "    text=\"* Simulación Circuito Amplificador Operacional de dos etapas\"+\"\\n\"+ \\\n",
    "    \"* Universidad Nacional de Colombia 2016\"+\"\\n\"+ \\\n",
    "    \"* CMOS Analógico\"+\"\\n\"+ \\\n",
    "    \"* Grupo Jorge Garzón, Esteban Iafrancesco A\"+\"\\n\"+ \\\n",
    "    \"\\n\"+\\\n",
    "    \"Vdd_1 Vdd_1 0 DC 2.5 AC 0\"+\"\\n\"+\\\n",
    "    \"Vss_1 Vss_1 0 DC -2.5 AC 0\"+\"\\n\"+\"\\n\"+\\\n",
    "    \"*Vin2_1 vinM2_1 0 DC 0 AC 0\"+\"\\n\"+\\\n",
    "    \"////////////------////////////////////\"+\"\\n\"+\\\n",
    "    \"*Circuito del amplificador operacional de dos etapas\"+\"\\n\"+\\\n",
    "    \"M1_1 drainM1_1 vout_1 sourceM1_1 Vss_1 nmosG W=\"+str(W1)+\" L=\"+str(L)+\"\\n\"+\\\n",
    "    \"M2_1 drainM2_1 vinM1_1 sourceM1_1 Vss_1 nmosG W=\"+str(W2)+\" L=\"+str(L)+\"\\n\"+\\\n",
    "    \"\\n\"+\\\n",
    "    \"M3_1 drainM1_1 drainM1_1 Vdd_1 Vdd_1 pmosG W=\"+str(W3)+\" L=\"+str(L)+\"\\n\"+\\\n",
    "    \"M4_1 drainM2_1 drainM1_1 Vdd_1 Vdd_1 pmosG W=\"+str(W4)+\" L=\"+str(L)+\"\\n\"+\\\n",
    "    \"\\n\"+\\\n",
    "    \"M5_1 sourceM1_1 vbiasM5_1 Vss_1 Vss_1 nmosG W=\"+str(W5)+\" L=\"+str(L)+\"\\n\"+\\\n",
    "    \"\\n\"+\\\n",
    "    \"M6_1 vout_1 drainM2_1 Vdd_1 Vdd_1 pmosG W=\"+str(W6)+\" L=\"+str(L)+\"\\n\"+\\\n",
    "    \"\\n\"+\\\n",
    "    \"M7_1 vout_1 vbiasM5_1 Vss_1 Vss_1 nmosG W=\"+str(W7)+\" L=\"+str(L)+\"\\n\"+\\\n",
    "    \"\\n\"+\\\n",
    "    \"Cl_1 vout_1 0 10p\"+\"\\n\"+\\\n",
    "    \"Cc_1 vout_1 drainM2_1 \"+str(Cc)+\"\\n\"+\\\n",
    "    \"////////////------////////////////////\"+\"\\n\"+\\\n",
    "    \"*Circuito del multiplicador beta\"+\"\\n\"+\\\n",
    "    \"MB1_1 vbiasM5_1 vbiasM5_1 Vss_1 Vss_1 nmosG W=8u L=1.6u\"+\"\\n\"+\\\n",
    "    \"MB2_1 drainMB2_1 vbiasM5_1 RBref_1 Vss_1 nmosG W=32u L=1.6u\"+\"\\n\"+\\\n",
    "    \"RBref_1 RBref_1 RBref2_1 \"+str(Rbias)+\"\\n\"+\\\n",
    "    \"MB3_1 vbiasM5_1 drainMB2_1 Vdd_1 Vdd_1 pmosG W=24u L=1.6u\"+\"\\n\"+\\\n",
    "    \"MB4_1 drainMB2_1 drainMB2_1 Vdd_1 Vdd_1 pmosG W=24u L=1.6u\"+\"\\n\"+\\\n",
    "    \"\\n\"+\\\n",
    "    \"VRLref_1 RBref2_1 Vss_1 DC 0 AC 0\"+\"\\n\"+\\\n",
    "    \"////////////------////////////////////\"+\"\\n\"+\\\n",
    "    \"\\n\"+\\\n",
    "    \"*Fuente AC en vinM1_1\"+\"\\n\"+\\\n",
    "    \"Vinac_1 vinM1_1 0 PULSE(-1 2 0 1ns 1ns 0.5s 1s)\"+\"\\n\"+\\\n",
    "    \"\\n\"+\\\n",
    "    \"* Modelos para tecnología 0.8u < L < 200u 10u < W < 10000u  Vdd=2.5V (Allen)\"+\"\\n\"+\\\n",
    "    \"* lambda cambia de acuerdo con la longitud del canal\"+\"\\n\"+\\\n",
    "    \"* nMOS: lambda=0.04 para L=1u y lambda=0.01 para L=2u\"+\"\\n\"+\\\n",
    "    \"* pMOS: lambda=0.05 para L=1u y lambda=0.01 para L=2u\"+\"\\n\"+\\\n",
    "    \"\\n\"+\\\n",
    "    \".model nmosG nmos level=2\"+\"\\n\"+\\\n",
    "    \"+ vto = 0.7 kp = 110e-6 gamma = 0.4 phi = 0.7\"+\"\\n\"+\\\n",
    "    \"+ tox = 14e-9 cj = 770e-6 cjsw = 380e-12 mj = 0.5 mjsw = 0.38\"+\"\\n\"+\\\n",
    "    \"+ cgso = 220e-12 cgdo = 220e-12 cgbo = 700e-12\"+\"\\n\"+\\\n",
    "    \"+ lambda = 0.04\"+\"\\n\"+\\\n",
    "    \"\\n\"+\\\n",
    "    \".model pmosG pmos level=2\"+\"\\n\"+\\\n",
    "    \"+ vto = -0.7 kp = 50e-6 gamma = 0.57 phi = 0.8\"+\"\\n\"+\\\n",
    "    \"+ tox = 14e-9 cj = 560e-6 cjsw = 350e-12 mj = 0.5 mjsw = 0.35\"+\"\\n\"+\\\n",
    "    \"+ cgso = 220e-12 cgdo = 220e-12 cgbo = 700e-12\"+\"\\n\"+\\\n",
    "    \"+ lambda = 0.05\"+\"\\n\"+\\\n",
    "    \"\\n\"+\\\n",
    "    \".control\"+\"\\n\"+\\\n",
    "    \"set color0 =white\"+\"\\n\"+\\\n",
    "    \"set color1=black\"+\"\\n\"+\\\n",
    "    \"op\"+\"\\n\"+\\\n",
    "    \"show all\"+\"\\n\"+\\\n",
    "    \"\\n\"+\\\n",
    "    \"*Transitorio\"+\"\\n\"+\\\n",
    "    \"tran .0000001s .000001s\"+\"\\n\"+\\\n",
    "    \"plot v(vout_1) v(vinm1_1)\"+\"\\n\"+\\\n",
    "    \".endc\"+\"\\n\"\n",
    "    for i, line in enumerate(fileinput.input('../ngspice-simulations/Script-Op-Amplifier-Two-Stages-Slew-Rate.cir', inplace=1)):\n",
    "        if i == 1: sys.stdout.write(text) # replace 'sit' and write\n",
    "    fileinput.close()"
   ]
  },
  {
   "cell_type": "code",
   "execution_count": 1389,
   "metadata": {
    "collapsed": true
   },
   "outputs": [],
   "source": [
    "import sys\n",
    "import fileinput\n",
    "def modificar_cir_Op_Amp_Two_Stages_setting_time(W1,W2,W3,W4,W5,W6,W7,W8,L,Cc,I5,Rbias):\n",
    "    text=\"* Simulación Circuito Amplificador Operacional de dos etapas\"+\"\\n\"+ \\\n",
    "    \"* Universidad Nacional de Colombia 2016\"+\"\\n\"+ \\\n",
    "    \"* CMOS Analógico\"+\"\\n\"+ \\\n",
    "    \"* Grupo Jorge Garzón, Esteban Iafrancesco A\"+\"\\n\"+ \\\n",
    "    \"\\n\"+\\\n",
    "    \"Vdd_1 Vdd_1 0 DC 2.5 AC 0\"+\"\\n\"+\\\n",
    "    \"Vss_1 Vss_1 0 DC -2.5 AC 0\"+\"\\n\"+\"\\n\"+\\\n",
    "    \"*Vin2_1 vinM2_1 0 DC 0 AC 0\"+\"\\n\"+\\\n",
    "    \"////////////------////////////////////\"+\"\\n\"+\\\n",
    "    \"*Circuito del amplificador operacional de dos etapas\"+\"\\n\"+\\\n",
    "    \"M1_1 drainM1_1 vout_1 sourceM1_1 Vss_1 nmosG W=\"+str(W1)+\" L=\"+str(L)+\"\\n\"+\\\n",
    "    \"M2_1 drainM2_1 vinM1_1 sourceM1_1 Vss_1 nmosG W=\"+str(W2)+\" L=\"+str(L)+\"\\n\"+\\\n",
    "    \"\\n\"+\\\n",
    "    \"M3_1 drainM1_1 drainM1_1 Vdd_1 Vdd_1 pmosG W=\"+str(W3)+\" L=\"+str(L)+\"\\n\"+\\\n",
    "    \"M4_1 drainM2_1 drainM1_1 Vdd_1 Vdd_1 pmosG W=\"+str(W4)+\" L=\"+str(L)+\"\\n\"+\\\n",
    "    \"\\n\"+\\\n",
    "    \"M5_1 sourceM1_1 vbiasM5_1 Vss_1 Vss_1 nmosG W=\"+str(W5)+\" L=\"+str(L)+\"\\n\"+\\\n",
    "    \"\\n\"+\\\n",
    "    \"M6_1 vout_1 drainM2_1 Vdd_1 Vdd_1 pmosG W=\"+str(W6)+\" L=\"+str(L)+\"\\n\"+\\\n",
    "    \"\\n\"+\\\n",
    "    \"M7_1 vout_1 vbiasM5_1 Vss_1 Vss_1 nmosG W=\"+str(W7)+\" L=\"+str(L)+\"\\n\"+\\\n",
    "    \"\\n\"+\\\n",
    "    \"Cl_1 vout_1 0 10p\"+\"\\n\"+\\\n",
    "    \"Cc_1 vout_1 drainM2_1 \"+str(Cc)+\"\\n\"+\\\n",
    "    \"////////////------////////////////////\"+\"\\n\"+\\\n",
    "    \"*Circuito del multiplicador beta\"+\"\\n\"+\\\n",
    "    \"MB1_1 vbiasM5_1 vbiasM5_1 Vss_1 Vss_1 nmosG W=8u L=1.6u\"+\"\\n\"+\\\n",
    "    \"MB2_1 drainMB2_1 vbiasM5_1 RBref_1 Vss_1 nmosG W=32u L=1.6u\"+\"\\n\"+\\\n",
    "    \"RBref_1 RBref_1 RBref2_1 \"+str(Rbias)+\"\\n\"+\\\n",
    "    \"MB3_1 vbiasM5_1 drainMB2_1 Vdd_1 Vdd_1 pmosG W=24u L=1.6u\"+\"\\n\"+\\\n",
    "    \"MB4_1 drainMB2_1 drainMB2_1 Vdd_1 Vdd_1 pmosG W=24u L=1.6u\"+\"\\n\"+\\\n",
    "    \"\\n\"+\\\n",
    "    \"VRLref_1 RBref2_1 Vss_1 DC 0 AC 0\"+\"\\n\"+\\\n",
    "    \"////////////------////////////////////\"+\"\\n\"+\\\n",
    "    \"\\n\"+\\\n",
    "    \"*Fuente AC en vinM1_1\"+\"\\n\"+\\\n",
    "    \"Vinac_1 vinM1_1 0 PULSE(0 20m 0 1ns 1ns 0.5s 1s)\"+\"\\n\"+\\\n",
    "    \"\\n\"+\\\n",
    "    \"* Modelos para tecnología 0.8u < L < 200u 10u < W < 10000u  Vdd=2.5V (Allen)\"+\"\\n\"+\\\n",
    "    \"* lambda cambia de acuerdo con la longitud del canal\"+\"\\n\"+\\\n",
    "    \"* nMOS: lambda=0.04 para L=1u y lambda=0.01 para L=2u\"+\"\\n\"+\\\n",
    "    \"* pMOS: lambda=0.05 para L=1u y lambda=0.01 para L=2u\"+\"\\n\"+\\\n",
    "    \"\\n\"+\\\n",
    "    \".model nmosG nmos level=2\"+\"\\n\"+\\\n",
    "    \"+ vto = 0.7 kp = 110e-6 gamma = 0.4 phi = 0.7\"+\"\\n\"+\\\n",
    "    \"+ tox = 14e-9 cj = 770e-6 cjsw = 380e-12 mj = 0.5 mjsw = 0.38\"+\"\\n\"+\\\n",
    "    \"+ cgso = 220e-12 cgdo = 220e-12 cgbo = 700e-12\"+\"\\n\"+\\\n",
    "    \"+ lambda = 0.04\"+\"\\n\"+\\\n",
    "    \"\\n\"+\\\n",
    "    \".model pmosG pmos level=2\"+\"\\n\"+\\\n",
    "    \"+ vto = -0.7 kp = 50e-6 gamma = 0.57 phi = 0.8\"+\"\\n\"+\\\n",
    "    \"+ tox = 14e-9 cj = 560e-6 cjsw = 350e-12 mj = 0.5 mjsw = 0.35\"+\"\\n\"+\\\n",
    "    \"+ cgso = 220e-12 cgdo = 220e-12 cgbo = 700e-12\"+\"\\n\"+\\\n",
    "    \"+ lambda = 0.05\"+\"\\n\"+\\\n",
    "    \"\\n\"+\\\n",
    "    \".control\"+\"\\n\"+\\\n",
    "    \"set color0 =white\"+\"\\n\"+\\\n",
    "    \"set color1=black\"+\"\\n\"+\\\n",
    "    \"op\"+\"\\n\"+\\\n",
    "    \"show all\"+\"\\n\"+\\\n",
    "    \"\\n\"+\\\n",
    "    \"*Transitorio\"+\"\\n\"+\\\n",
    "    \"tran .0000001s .00000065s\"+\"\\n\"+\\\n",
    "    \"plot v(vout_1) v(vinm1_1)\"+\"\\n\"+\\\n",
    "    \".endc\"+\"\\n\"\n",
    "    for i, line in enumerate(fileinput.input('../ngspice-simulations/Script-Op-Amplifier-Two-Stages-Setting-Time.cir', inplace=1)):\n",
    "        if i == 1: sys.stdout.write(text) # replace 'sit' and write\n",
    "    fileinput.close()"
   ]
  },
  {
   "cell_type": "code",
   "execution_count": 1390,
   "metadata": {
    "collapsed": true
   },
   "outputs": [],
   "source": [
    "import sys\n",
    "import fileinput\n",
    "def modificar_cir_Op_Amp_Two_Stages_ICMR(W1,W2,W3,W4,W5,W6,W7,W8,L,Cc,I5,Rbias):\n",
    "    text=\"* Simulación Circuito Amplificador Operacional de dos etapas\"+\"\\n\"+ \\\n",
    "    \"* Universidad Nacional de Colombia 2016\"+\"\\n\"+ \\\n",
    "    \"* CMOS Analógico\"+\"\\n\"+ \\\n",
    "    \"* Grupo Jorge Garzón, Esteban Iafrancesco A\"+\"\\n\"+ \\\n",
    "    \"\\n\"+\\\n",
    "    \"Vdd_1 Vdd_1 0 DC 2.5 AC 0\"+\"\\n\"+\\\n",
    "    \"Vss_1 Vss_1 0 DC -2.5 AC 0\"+\"\\n\"+\"\\n\"+\\\n",
    "    \"*Vin2_1 vinM2_1 0 DC 0 AC 0\"+\"\\n\"+\\\n",
    "    \"////////////------////////////////////\"+\"\\n\"+\\\n",
    "    \"*Circuito del amplificador operacional de dos etapas\"+\"\\n\"+\\\n",
    "    \"M1_1 drainM1_1 vout_1 sourceM1_1 Vss_1 nmosG W=\"+str(W1)+\" L=\"+str(L)+\"\\n\"+\\\n",
    "    \"M2_1 drainM2_1 vinM1_1 sourceM1_1 Vss_1 nmosG W=\"+str(W2)+\" L=\"+str(L)+\"\\n\"+\\\n",
    "    \"\\n\"+\\\n",
    "    \"M3_1 drainM1_1 drainM1_1 Vdd_1 Vdd_1 pmosG W=\"+str(W3)+\" L=\"+str(L)+\"\\n\"+\\\n",
    "    \"M4_1 drainM2_1 drainM1_1 Vdd_1 Vdd_1 pmosG W=\"+str(W4)+\" L=\"+str(L)+\"\\n\"+\\\n",
    "    \"\\n\"+\\\n",
    "    \"M5_1 sourceM1_1 vbiasM5_1 Vss_1 Vss_1 nmosG W=\"+str(W5)+\" L=\"+str(L)+\"\\n\"+\\\n",
    "    \"\\n\"+\\\n",
    "    \"M6_1 vout_1 drainM2_1 Vdd_1 Vdd_1 pmosG W=\"+str(W6)+\" L=\"+str(L)+\"\\n\"+\\\n",
    "    \"\\n\"+\\\n",
    "    \"M7_1 vout_1 vbiasM5_1 Vss_1 Vss_1 nmosG W=\"+str(W7)+\" L=\"+str(L)+\"\\n\"+\\\n",
    "    \"\\n\"+\\\n",
    "    \"Cl_1 vout_1 0 10p\"+\"\\n\"+\\\n",
    "    \"Cc_1 vout_1 drainM2_1 \"+str(Cc)+\"\\n\"+\\\n",
    "    \"////////////------////////////////////\"+\"\\n\"+\\\n",
    "    \"*Circuito del multiplicador beta\"+\"\\n\"+\\\n",
    "    \"MB1_1 vbiasM5_1 vbiasM5_1 Vss_1 Vss_1 nmosG W=8u L=1.6u\"+\"\\n\"+\\\n",
    "    \"MB2_1 drainMB2_1 vbiasM5_1 RBref_1 Vss_1 nmosG W=32u L=1.6u\"+\"\\n\"+\\\n",
    "    \"RBref_1 RBref_1 RBref2_1 \"+str(Rbias)+\"\\n\"+\\\n",
    "    \"MB3_1 vbiasM5_1 drainMB2_1 Vdd_1 Vdd_1 pmosG W=24u L=1.6u\"+\"\\n\"+\\\n",
    "    \"MB4_1 drainMB2_1 drainMB2_1 Vdd_1 Vdd_1 pmosG W=24u L=1.6u\"+\"\\n\"+\\\n",
    "    \"\\n\"+\\\n",
    "    \"VRLref_1 RBref2_1 Vss_1 DC 0 AC 0\"+\"\\n\"+\\\n",
    "    \"////////////------////////////////////\"+\"\\n\"+\\\n",
    "    \"\\n\"+\\\n",
    "    \"*Fuente DC en vinM1_1\"+\"\\n\"+\\\n",
    "    \"Vindc_1 vinM1_1 0 DC 0 AC 0\"+\"\\n\"+\\\n",
    "    \"\\n\"+\\\n",
    "    \"* Modelos para tecnología 0.8u < L < 200u 10u < W < 10000u  Vdd=2.5V (Allen)\"+\"\\n\"+\\\n",
    "    \"* lambda cambia de acuerdo con la longitud del canal\"+\"\\n\"+\\\n",
    "    \"* nMOS: lambda=0.04 para L=1u y lambda=0.01 para L=2u\"+\"\\n\"+\\\n",
    "    \"* pMOS: lambda=0.05 para L=1u y lambda=0.01 para L=2u\"+\"\\n\"+\\\n",
    "    \"\\n\"+\\\n",
    "    \".model nmosG nmos level=2\"+\"\\n\"+\\\n",
    "    \"+ vto = 0.7 kp = 110e-6 gamma = 0.4 phi = 0.7\"+\"\\n\"+\\\n",
    "    \"+ tox = 14e-9 cj = 770e-6 cjsw = 380e-12 mj = 0.5 mjsw = 0.38\"+\"\\n\"+\\\n",
    "    \"+ cgso = 220e-12 cgdo = 220e-12 cgbo = 700e-12\"+\"\\n\"+\\\n",
    "    \"+ lambda = 0.04\"+\"\\n\"+\\\n",
    "    \"\\n\"+\\\n",
    "    \".model pmosG pmos level=2\"+\"\\n\"+\\\n",
    "    \"+ vto = -0.7 kp = 50e-6 gamma = 0.57 phi = 0.8\"+\"\\n\"+\\\n",
    "    \"+ tox = 14e-9 cj = 560e-6 cjsw = 350e-12 mj = 0.5 mjsw = 0.35\"+\"\\n\"+\\\n",
    "    \"+ cgso = 220e-12 cgdo = 220e-12 cgbo = 700e-12\"+\"\\n\"+\\\n",
    "    \"+ lambda = 0.05\"+\"\\n\"+\\\n",
    "    \"\\n\"+\\\n",
    "    \".control\"+\"\\n\"+\\\n",
    "    \"set color0 =white\"+\"\\n\"+\\\n",
    "    \"set color1=black\"+\"\\n\"+\\\n",
    "    \"op\"+\"\\n\"+\\\n",
    "    \"show all\"+\"\\n\"+\\\n",
    "    \"\\n\"+\\\n",
    "    \"*Simulacion en DC vin vs vout y I(vdd_1) vs vin, para observar la rampa de operacion del amplificador\"+\"\\n\"+\\\n",
    "    \"dc vindc_1 -4 4 0.0001\"+\"\\n\"+\\\n",
    "    \"plot v(vout_1)\"+\"\\n\"+\\\n",
    "    \"plot i(Vdd_1)\"+\"\\n\"+\\\n",
    "    \".endc\"+\"\\n\"\n",
    "    for i, line in enumerate(fileinput.input('../ngspice-simulations/Script-Op-Amplifier-Two-Stages-ICMR.cir', inplace=1)):\n",
    "        if i == 1: sys.stdout.write(text) # replace 'sit' and write\n",
    "    fileinput.close()"
   ]
  },
  {
   "cell_type": "code",
   "execution_count": 1391,
   "metadata": {
    "collapsed": false
   },
   "outputs": [],
   "source": [
    "modificar_cir_Op_Amp_Two_Stages(W1,W2,W3,W4,W5,W6,W7,W5,L_base,Cc_final,I5,Rbias)\n",
    "modificar_cir_Op_Amp_Two_Stages_slew_rate(W1,W2,W3,W4,W5,W6,W7,W5,L_base,Cc_final,I5,Rbias)\n",
    "modificar_cir_Op_Amp_Two_Stages_setting_time(W1,W2,W3,W4,W5,W6,W7,W5,L_base,Cc_final,I5,Rbias)\n",
    "modificar_cir_Op_Amp_Two_Stages_ICMR(W1,W2,W3,W4,W5,W6,W7,W5,L_base,Cc_final,I5,Rbias)"
   ]
  },
  {
   "cell_type": "code",
   "execution_count": 1392,
   "metadata": {
    "collapsed": false,
    "scrolled": true
   },
   "outputs": [
    {
     "name": "stdout",
     "output_type": "stream",
     "text": [
      "Ganacia en DBs: 81.35702125847115\n",
      "Corriente I5: 2.1119999999999998e-05\n",
      "W1/L1: 5\n",
      "W2/L2: 5\n",
      "W3/L3: 11\n",
      "W4/L4: 11\n",
      "W5/L5: 2\n",
      "W6/L6: 100.0\n",
      "W7/L7: 12\n"
     ]
    }
   ],
   "source": [
    "print(\"Ganacia en DBs: \"+str(AV_db))\n",
    "print(\"Corriente I5: \"+str(I5))\n",
    "print(\"W1/L1: \"+str(S1_final))\n",
    "print(\"W2/L2: \"+str(S2_final))\n",
    "print(\"W3/L3: \"+str(S3_final))\n",
    "print(\"W4/L4: \"+str(S4_final))\n",
    "print(\"W5/L5: \"+str(S5_final))\n",
    "print(\"W6/L6: \"+str(S6_final))\n",
    "print(\"W7/L7: \"+str(S7_final))\n"
   ]
  },
  {
   "cell_type": "code",
   "execution_count": 1393,
   "metadata": {
    "collapsed": false
   },
   "outputs": [
    {
     "name": "stdout",
     "output_type": "stream",
     "text": [
      "Tamaño W1: 8e-06 Tamaño L1: 1.6e-06\n",
      "Tamaño W2: 8e-06 Tamaño L2: 1.6e-06\n",
      "Tamaño W3: 1.76e-05 Tamaño L3: 1.6e-06\n",
      "Tamaño W4: 1.76e-05 Tamaño L4: 1.6e-06\n",
      "Tamaño W5: 3.2e-06 Tamaño L5: 1.6e-06\n",
      "Tamaño W6: 0.00015999999999999999 Tamaño L6: 1.6e-06\n",
      "Tamaño W7: 1.92e-05 Tamaño L7: 1.6e-06\n"
     ]
    }
   ],
   "source": [
    "print(\"Tamaño W1: \"+str(W1)+ \" Tamaño L1: \"+str(L1))\n",
    "print(\"Tamaño W2: \"+str(W2)+ \" Tamaño L2: \"+str(L2))\n",
    "print(\"Tamaño W3: \"+str(W3)+ \" Tamaño L3: \"+str(L3))\n",
    "print(\"Tamaño W4: \"+str(W4)+ \" Tamaño L4: \"+str(L4))\n",
    "print(\"Tamaño W5: \"+str(W5)+ \" Tamaño L5: \"+str(L5))\n",
    "print(\"Tamaño W6: \"+str(W6)+ \" Tamaño L6: \"+str(L6))\n",
    "print(\"Tamaño W7: \"+str(W7)+ \" Tamaño L7: \"+str(L7))"
   ]
  },
  {
   "cell_type": "code",
   "execution_count": 1394,
   "metadata": {
    "collapsed": false,
    "scrolled": false
   },
   "outputs": [
    {
     "name": "stdout",
     "output_type": "stream",
     "text": [
      "Valores para el diseño del Layout en Electric escala 800nm: \n",
      "Tamaño W1: 10.0 Tamaño L1: 2.0\n",
      "Tamaño W2: 10.0 Tamaño L2: 2.0\n",
      "Tamaño W3: 22.000000000000004 Tamaño L3: 2.0\n",
      "Tamaño W4: 22.000000000000004 Tamaño L4: 2.0\n",
      "Tamaño W5: 4.0 Tamaño L5: 2.0\n",
      "Tamaño W6: 200.0 Tamaño L6: 2.0\n",
      "Tamaño W7: 24.0 Tamaño L7: 2.0\n"
     ]
    }
   ],
   "source": [
    "print(\"Valores para el diseño del Layout en Electric escala 800nm: \")\n",
    "print(\"Tamaño W1: \"+str(W1/800e-9)+ \" Tamaño L1: \"+str(L1/800e-9))\n",
    "print(\"Tamaño W2: \"+str(W2/800e-9)+ \" Tamaño L2: \"+str(L2/800e-9))\n",
    "print(\"Tamaño W3: \"+str(W3/800e-9)+ \" Tamaño L3: \"+str(L3/800e-9))\n",
    "print(\"Tamaño W4: \"+str(W4/800e-9)+ \" Tamaño L4: \"+str(L4/800e-9))\n",
    "print(\"Tamaño W5: \"+str(W5/800e-9)+ \" Tamaño L5: \"+str(L5/800e-9))\n",
    "print(\"Tamaño W6: \"+str(W6/800e-9)+ \" Tamaño L6: \"+str(L6/800e-9))\n",
    "print(\"Tamaño W7: \"+str(W7/800e-9)+ \" Tamaño L7: \"+str(L7/800e-9))"
   ]
  },
  {
   "cell_type": "code",
   "execution_count": null,
   "metadata": {
    "collapsed": true
   },
   "outputs": [],
   "source": []
  }
 ],
 "metadata": {
  "anaconda-cloud": {},
  "kernelspec": {
   "display_name": "Python [Root]",
   "language": "python",
   "name": "Python [Root]"
  },
  "language_info": {
   "codemirror_mode": {
    "name": "ipython",
    "version": 3
   },
   "file_extension": ".py",
   "mimetype": "text/x-python",
   "name": "python",
   "nbconvert_exporter": "python",
   "pygments_lexer": "ipython3",
   "version": "3.5.2"
  }
 },
 "nbformat": 4,
 "nbformat_minor": 0
}
