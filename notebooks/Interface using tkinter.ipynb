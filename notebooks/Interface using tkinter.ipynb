{
 "cells": [
  {
   "cell_type": "code",
   "execution_count": 7,
   "metadata": {
    "collapsed": true
   },
   "outputs": [],
   "source": [
    "from tkinter import *\n",
    "from tkinter import ttk\n",
    "import math\n",
    "import numpy as np\n",
    "import scipy as sp\n",
    "import matplotlib.pyplot as plt\n",
    "import pylab as plb\n",
    "def matrix(m_length,m_width):\n",
    "    \"Return matrix with no homogeneus resitivity\"\n",
    "    m = np.zeros((m_length,m_width))\n",
    "    return m\n"
   ]
  },
  {
   "cell_type": "code",
   "execution_count": 8,
   "metadata": {
    "collapsed": true
   },
   "outputs": [],
   "source": [
    "size_m=5\n",
    "paint_matrix = matrix(int(size_m),int(size_m))"
   ]
  },
  {
   "cell_type": "code",
   "execution_count": 11,
   "metadata": {
    "collapsed": false
   },
   "outputs": [],
   "source": [
    "def mpaint(a,b):\n",
    "    if init == 1:\n",
    "        paint_matrix[a][b]=1\n",
    "\n",
    "init = 0        \n",
    "root = Tk()\n",
    "root.title(\"Resistors GUI\")\n",
    "root.geometry(\"800x600\")\n",
    "for i in range(0,int(math.sqrt(paint_matrix.size))):\n",
    "    for j in range(0,int(math.sqrt(paint_matrix.size))):\n",
    "            but = Button(root, text='%s'%(paint_matrix[i][j]),command=mpaint(i,j),borderwidth=1 )\n",
    "            but.grid(row=i,column=j)\n",
    "init=1\n",
    "root.mainloop()"
   ]
  },
  {
   "cell_type": "code",
   "execution_count": null,
   "metadata": {
    "collapsed": true
   },
   "outputs": [],
   "source": [
    "def mpaint(a,b):\n",
    "        paint_matrix[a][b]=0 \n",
    "    \n",
    "root = Tk()\n",
    "root.title(\"Resistors GUI\")\n",
    "root.geometry(\"780x600\")\n",
    "\n",
    "button = Button(root, text='%s'%(paint_matrix[0][0]),command=mpaint(i,j),borderwidth=1 )\n",
    "button.pack()\n",
    "root.mainloop()"
   ]
  },
  {
   "cell_type": "code",
   "execution_count": 15,
   "metadata": {
    "collapsed": false
   },
   "outputs": [],
   "source": [
    "import sys\n",
    "from tkinter import *\n",
    "\n",
    "app = Tk()\n",
    "app.title(\"Graph App\")\n",
    "\n",
    "vp = Frame(app)\n",
    "vp.grid(column=0,row=0,padx=(20,20),pady=(20,20))\n",
    "vp.columnconfigure(0,weight=1)\n",
    "vp.rowconfigure(0,weight=1)\n",
    "\n",
    "for i in range(0,int(math.sqrt(paint_matrix.size))):\n",
    "    for j in range(0,int(math.sqrt(paint_matrix.size))):\n",
    "            but= Button(vp, text='%s'%(paint_matrix[i][j]),command=mpaint(i,j),borderwidth=1 )\n",
    "            but.grid(row=i,column=j)\n",
    "\n",
    "            \n",
    "app.mainloop()"
   ]
  },
  {
   "cell_type": "code",
   "execution_count": null,
   "metadata": {
    "collapsed": true
   },
   "outputs": [],
   "source": []
  }
 ],
 "metadata": {
  "kernelspec": {
   "display_name": "Python [Root]",
   "language": "python",
   "name": "Python [Root]"
  },
  "language_info": {
   "codemirror_mode": {
    "name": "ipython",
    "version": 3
   },
   "file_extension": ".py",
   "mimetype": "text/x-python",
   "name": "python",
   "nbconvert_exporter": "python",
   "pygments_lexer": "ipython3",
   "version": "3.5.2"
  }
 },
 "nbformat": 4,
 "nbformat_minor": 0
}
