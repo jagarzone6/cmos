{
 "cells": [
  {
   "cell_type": "markdown",
   "metadata": {},
   "source": [
    "# 01 - Resistors Model"
   ]
  },
  {
   "cell_type": "raw",
   "metadata": {},
   "source": [
    "Definicion de variables para calcular la resistencia del material de 30um x 30um y delta-xy=1.4um\n",
    "Definicion de la funcion para calcular R"
   ]
  },
  {
   "cell_type": "code",
   "execution_count": 1,
   "metadata": {
    "collapsed": false
   },
   "outputs": [],
   "source": [
    "%matplotlib inline\n",
    "import math\n",
    "import numpy as np\n",
    "import scipy as sp\n",
    "import matplotlib.pyplot as plt\n",
    "import pylab as plb\n",
    "def matrix(m_length,m_width):\n",
    "    \"Return matrix with no homogeneus resitivity\"\n",
    "    m = np.zeros((m_length,m_width))\n",
    "    return m\n",
    "def resistance(resistivity,L,W,t):\n",
    "    \"Return a value of resistance for a single shape\"\n",
    "    R = (L*resistivity)/(W*t)\n",
    "    return R\n",
    "Material_length=30e-6\n",
    "step = 1.4e-6\n",
    "thickness = 0.05e-6\n",
    "resistivity_base = 1.5e-6\n",
    "resistance(resistivity_base,step,step,thickness)\n",
    "size_m = Material_length/step\n",
    "delta_resistivity=0.005e-6\n",
    "plt.style.use('ggplot')"
   ]
  },
  {
   "cell_type": "markdown",
   "metadata": {},
   "source": [
    "Matriz de resistividad ideal"
   ]
  },
  {
   "cell_type": "code",
   "execution_count": 2,
   "metadata": {
    "collapsed": false
   },
   "outputs": [
    {
     "data": {
      "image/png": "[encoded data removed]",
      "text/plain": [
       "<matplotlib.figure.Figure at 0x7f66c93ebef0>"
      ]
     },
     "metadata": {},
     "output_type": "display_data"
    }
   ],
   "source": [
    "I = matrix(int(size_m),int(size_m))\n",
    "for i in range(0,int(math.sqrt(I.size))):\n",
    "    for j in range(0,int(math.sqrt(I.size))):\n",
    "        I[i][j]= resistance(resistivity_base,step,step,thickness)\n",
    "        \n",
    "plt.matshow(I)\n",
    "plt.show()"
   ]
  },
  {
   "cell_type": "markdown",
   "metadata": {},
   "source": [
    "Valor de la resistencia ideal por cuadro"
   ]
  },
  {
   "cell_type": "code",
   "execution_count": 3,
   "metadata": {
    "collapsed": false
   },
   "outputs": [
    {
     "data": {
      "text/plain": [
       "30.000000000000004"
      ]
     },
     "execution_count": 3,
     "metadata": {},
     "output_type": "execute_result"
    }
   ],
   "source": [
    "resistance(resistivity_base,step,step,thickness)"
   ]
  },
  {
   "cell_type": "markdown",
   "metadata": {},
   "source": [
    "Creacion de la matrix del material con variaciones en la resistencia"
   ]
  },
  {
   "cell_type": "code",
   "execution_count": 4,
   "metadata": {
    "collapsed": true
   },
   "outputs": [],
   "source": [
    "M = matrix(int(size_m),int(size_m))\n",
    "math.sqrt(M.size)\n",
    "for i in range(0,int(math.sqrt(M.size))):\n",
    "    for j in range(0,int(math.sqrt(M.size))):\n",
    "        M[i][j]= resistance(resistivity_base+(i+j)*delta_resistivity,step,step,thickness)\n",
    "        "
   ]
  },
  {
   "cell_type": "markdown",
   "metadata": {},
   "source": [
    "Tamaño de la matrix LxL"
   ]
  },
  {
   "cell_type": "code",
   "execution_count": 5,
   "metadata": {
    "collapsed": false
   },
   "outputs": [
    {
     "data": {
      "text/plain": [
       "21.0"
      ]
     },
     "execution_count": 5,
     "metadata": {},
     "output_type": "execute_result"
    }
   ],
   "source": [
    "math.sqrt(M.size)"
   ]
  },
  {
   "cell_type": "markdown",
   "metadata": {
    "collapsed": false
   },
   "source": [
    "Visualizacion de la variacion de resistencia en el material"
   ]
  },
  {
   "cell_type": "code",
   "execution_count": 6,
   "metadata": {
    "collapsed": false
   },
   "outputs": [
    {
     "data": {
      "image/png": "[encoded data removed]",
      "text/plain": [
       "<matplotlib.figure.Figure at 0x7f66a6a06978>"
      ]
     },
     "metadata": {},
     "output_type": "display_data"
    }
   ],
   "source": [
    "plt.matshow(M)\n",
    "plt.show()"
   ]
  },
  {
   "cell_type": "markdown",
   "metadata": {},
   "source": [
    "Inicializando la matriz de dibujo en el material"
   ]
  },
  {
   "cell_type": "code",
   "execution_count": 7,
   "metadata": {
    "collapsed": false
   },
   "outputs": [
    {
     "data": {
      "image/png": "[encoded data removed]",
      "text/plain": [
       "<matplotlib.figure.Figure at 0x7f66a6444c88>"
      ]
     },
     "metadata": {},
     "output_type": "display_data"
    }
   ],
   "source": [
    "paint_matrix = matrix(int(size_m),int(size_m))\n",
    "plt.matshow(paint_matrix)\n",
    "plt.show()\n"
   ]
  },
  {
   "cell_type": "markdown",
   "metadata": {},
   "source": [
    "Diseño 1 de dibujo resistencias perpenticulares"
   ]
  },
  {
   "cell_type": "code",
   "execution_count": 8,
   "metadata": {
    "collapsed": false
   },
   "outputs": [
    {
     "data": {
      "image/png": "[encoded data removed]",
      "text/plain": [
       "<matplotlib.figure.Figure at 0x7f66a642d898>"
      ]
     },
     "metadata": {},
     "output_type": "display_data"
    }
   ],
   "source": [
    "paint_matrix = matrix(int(size_m),int(size_m))\n",
    "RA = []\n",
    "for i in range(21):\n",
    "       RA.append(1)\n",
    "RB = []\n",
    "for i in range(21):\n",
    "       RB.append(2)\n",
    "paint_matrix[0:21,9]=RA\n",
    "paint_matrix[0:21,11]=RB\n",
    "plt.matshow(paint_matrix)\n",
    "plt.show()"
   ]
  },
  {
   "cell_type": "markdown",
   "metadata": {},
   "source": [
    "Diseño 2 de dibujo resistencias horizontales en la misma fila"
   ]
  },
  {
   "cell_type": "code",
   "execution_count": 9,
   "metadata": {
    "collapsed": false
   },
   "outputs": [
    {
     "data": {
      "image/png": "[encoded data removed]",
      "text/plain": [
       "<matplotlib.figure.Figure at 0x7f66a635d198>"
      ]
     },
     "metadata": {},
     "output_type": "display_data"
    }
   ],
   "source": [
    "paint_matrix = matrix(int(size_m),int(size_m))\n",
    "RA = []\n",
    "for i in range(10):\n",
    "       RA.append(1)\n",
    "RB = []\n",
    "for i in range(10):\n",
    "       RB.append(2)\n",
    "paint_matrix[10,0:10]=RA\n",
    "paint_matrix[10,11:21]=RB\n",
    "plt.matshow(paint_matrix)\n",
    "plt.show()"
   ]
  },
  {
   "cell_type": "code",
   "execution_count": 10,
   "metadata": {
    "collapsed": false
   },
   "outputs": [
    {
     "ename": "SyntaxError",
     "evalue": "invalid syntax (<ipython-input-10-e5ca3472acad>, line 1)",
     "output_type": "error",
     "traceback": [
      "\u001b[1;36m  File \u001b[1;32m\"<ipython-input-10-e5ca3472acad>\"\u001b[1;36m, line \u001b[1;32m1\u001b[0m\n\u001b[1;33m    Diseño 3 de dibujo resistencias verticales en la misma columna\u001b[0m\n\u001b[1;37m           ^\u001b[0m\n\u001b[1;31mSyntaxError\u001b[0m\u001b[1;31m:\u001b[0m invalid syntax\n"
     ]
    }
   ],
   "source": [
    "Diseño 3 de dibujo resistencias verticales en la misma columna"
   ]
  },
  {
   "cell_type": "code",
   "execution_count": 11,
   "metadata": {
    "collapsed": false
   },
   "outputs": [
    {
     "data": {
      "image/png": "[encoded data removed]",
      "text/plain": [
       "<matplotlib.figure.Figure at 0x7f66a63799b0>"
      ]
     },
     "metadata": {},
     "output_type": "display_data"
    }
   ],
   "source": [
    "paint_matrix = matrix(int(size_m),int(size_m))\n",
    "RA = []\n",
    "for i in range(10):\n",
    "       RA.append(1)\n",
    "RB = []\n",
    "for i in range(10):\n",
    "       RB.append(2)\n",
    "paint_matrix[0:10,10]=RA\n",
    "paint_matrix[11:21,10]=RB\n",
    "plt.matshow(paint_matrix)\n",
    "plt.show()"
   ]
  },
  {
   "cell_type": "markdown",
   "metadata": {
    "collapsed": true
   },
   "source": [
    "Diseño 4 de dibujo modelo ABABAB"
   ]
  },
  {
   "cell_type": "code",
   "execution_count": 12,
   "metadata": {
    "collapsed": false
   },
   "outputs": [
    {
     "data": {
      "image/png": "[encoded data removed]",
      "text/plain": [
       "<matplotlib.figure.Figure at 0x7f66a62e19e8>"
      ]
     },
     "metadata": {},
     "output_type": "display_data"
    }
   ],
   "source": [
    "paint_matrix = matrix(int(size_m),int(size_m))\n",
    "RA = []\n",
    "for i in range(21):\n",
    "       RA.append(1)\n",
    "RB = []\n",
    "for i in range(21):\n",
    "       RB.append(2)\n",
    "paint_matrix[0:21,3]=RB\n",
    "paint_matrix[0:21,5]=RA\n",
    "paint_matrix[0:21,7]=RB\n",
    "paint_matrix[0:21,9]=RA\n",
    "paint_matrix[0:21,11]=RB\n",
    "paint_matrix[0:21,13]=RA\n",
    "paint_matrix[0:21,15]=RB\n",
    "paint_matrix[0:21,17]=RA\n",
    "\n",
    "plt.matshow(paint_matrix)\n",
    "plt.show()"
   ]
  },
  {
   "cell_type": "markdown",
   "metadata": {},
   "source": [
    "Diseño 5 de dibujo modelo ABBAABBA"
   ]
  },
  {
   "cell_type": "code",
   "execution_count": 13,
   "metadata": {
    "collapsed": false
   },
   "outputs": [
    {
     "data": {
      "image/png": "[encoded data removed]",
      "text/plain": [
       "<matplotlib.figure.Figure at 0x7f66a6247a20>"
      ]
     },
     "metadata": {},
     "output_type": "display_data"
    }
   ],
   "source": [
    "paint_matrix = matrix(int(size_m),int(size_m))\n",
    "RA = []\n",
    "for i in range(21):\n",
    "       RA.append(1)\n",
    "RB = []\n",
    "for i in range(21):\n",
    "       RB.append(2)\n",
    "paint_matrix[0:21,3]=RA\n",
    "paint_matrix[0:21,5]=RB\n",
    "paint_matrix[0:21,7]=RB\n",
    "paint_matrix[0:21,9]=RA\n",
    "paint_matrix[0:21,11]=RA\n",
    "paint_matrix[0:21,13]=RB\n",
    "paint_matrix[0:21,15]=RB\n",
    "paint_matrix[0:21,17]=RA\n",
    "\n",
    "plt.matshow(paint_matrix)\n",
    "plt.show()"
   ]
  },
  {
   "cell_type": "markdown",
   "metadata": {},
   "source": [
    "Diseño 6 de centroide comun"
   ]
  },
  {
   "cell_type": "code",
   "execution_count": 14,
   "metadata": {
    "collapsed": false
   },
   "outputs": [
    {
     "data": {
      "image/png": "[encoded data removed]",
      "text/plain": [
       "<matplotlib.figure.Figure at 0x7f66a6299f60>"
      ]
     },
     "metadata": {},
     "output_type": "display_data"
    }
   ],
   "source": [
    "paint_matrix = matrix(int(size_m),int(size_m))\n",
    "RA = []\n",
    "for i in range(3):\n",
    "       RA.append(1)\n",
    "RB = []\n",
    "for i in range(3):\n",
    "       RB.append(2)\n",
    "RC = []\n",
    "for i in range(3):\n",
    "       RC.append(3)\n",
    "RD = []\n",
    "for i in range(3):\n",
    "       RD.append(4)\n",
    "\n",
    "        \n",
    "paint_matrix[3:6,7]=RA\n",
    "paint_matrix[3:6,9]=RC\n",
    "paint_matrix[3:6,11]=RC\n",
    "paint_matrix[3:6,13]=RB        \n",
    "paint_matrix[7:10,7]=RD\n",
    "paint_matrix[7:10,9]=RA\n",
    "paint_matrix[7:10,11]=RB\n",
    "paint_matrix[7:10,13]=RD\n",
    "paint_matrix[11:14,7]=RD\n",
    "paint_matrix[11:14,9]=RB\n",
    "paint_matrix[11:14,11]=RA\n",
    "paint_matrix[11:14,13]=RD\n",
    "paint_matrix[15:18,7]=RB\n",
    "paint_matrix[15:18,9]=RC\n",
    "paint_matrix[15:18,11]=RC\n",
    "paint_matrix[15:18,13]=RA\n",
    "\n",
    "\n",
    "plt.matshow(paint_matrix)\n",
    "plt.show()"
   ]
  },
  {
   "cell_type": "code",
   "execution_count": 15,
   "metadata": {
    "collapsed": false
   },
   "outputs": [],
   "source": [
    "#paint_matrix"
   ]
  },
  {
   "cell_type": "markdown",
   "metadata": {
    "collapsed": true
   },
   "source": [
    "Calculo de las resistencias Ideal, real"
   ]
  },
  {
   "cell_type": "code",
   "execution_count": 16,
   "metadata": {
    "collapsed": false
   },
   "outputs": [],
   "source": [
    "def RealresistanceA():\n",
    "    \"Return a value of resistance RA\"\n",
    "    R=0\n",
    "    for i in range(0,int(math.sqrt(M.size))):\n",
    "        for j in range(0,int(math.sqrt(M.size))):\n",
    "            if paint_matrix[i][j]==1:\n",
    "                R +=M[i][j]\n",
    "    return R\n",
    "def RealresistanceB():\n",
    "    \"Return a value of resistance RB\"\n",
    "    R=0\n",
    "    for i in range(0,int(math.sqrt(M.size))):\n",
    "        for j in range(0,int(math.sqrt(M.size))):\n",
    "            if paint_matrix[i][j]==2:\n",
    "                R += M[i][j]\n",
    "    return R\n",
    "def RealresistanceC():\n",
    "    \"Return a value of resistance RC\"\n",
    "    R=0\n",
    "    for i in range(0,int(math.sqrt(M.size))):\n",
    "        for j in range(0,int(math.sqrt(M.size))):\n",
    "            if paint_matrix[i][j]==3:\n",
    "                R +=M[i][j]\n",
    "    return R\n",
    "def RealresistanceD():\n",
    "    \"Return a value of resistance RD\"\n",
    "    R=0\n",
    "    for i in range(0,int(math.sqrt(M.size))):\n",
    "        for j in range(0,int(math.sqrt(M.size))):\n",
    "            if paint_matrix[i][j]==4:\n",
    "                R += M[i][j]\n",
    "    return R\n",
    "def IdealresistanceA():\n",
    "    \"Return a value of resistance RA\"\n",
    "    R=0\n",
    "    for i in range(0,int(math.sqrt(M.size))):\n",
    "        for j in range(0,int(math.sqrt(M.size))):\n",
    "            if paint_matrix[i][j]==1:\n",
    "                R +=I[i][j]\n",
    "    return R\n",
    "def IdealresistanceB():\n",
    "    \"Return a value of resistance RB\"\n",
    "    R=0\n",
    "    for i in range(0,int(math.sqrt(M.size))):\n",
    "        for j in range(0,int(math.sqrt(M.size))):\n",
    "            if paint_matrix[i][j]==2:\n",
    "                R += I[i][j]\n",
    "    return R\n",
    "def IdealresistanceC():\n",
    "    \"Return a value of resistance RC\"\n",
    "    R=0\n",
    "    for i in range(0,int(math.sqrt(M.size))):\n",
    "        for j in range(0,int(math.sqrt(M.size))):\n",
    "            if paint_matrix[i][j]==3:\n",
    "                R +=I[i][j]\n",
    "    return R\n",
    "def IdealresistanceD():\n",
    "    \"Return a value of resistance RD\"\n",
    "    R=0\n",
    "    for i in range(0,int(math.sqrt(M.size))):\n",
    "        for j in range(0,int(math.sqrt(M.size))):\n",
    "            if paint_matrix[i][j]==4:\n",
    "                R += I[i][j]\n",
    "    return R"
   ]
  },
  {
   "cell_type": "code",
   "execution_count": 47,
   "metadata": {
    "collapsed": false
   },
   "outputs": [
    {
     "name": "stdout",
     "output_type": "stream",
     "text": [
      "RealresistanceA: 2688.0\n",
      "RealresistanceB: 2688.0\n",
      "IdealresistanceA: 2520.0\n",
      "IdealresistanceB: 2520.0\n",
      "Porcentaje de diferencia entre los valores reales\n",
      "Error Between Real resistances: 2.22044604925e-14 %\n",
      "Porcentaje de diferencia entre las resistencia ideal y las resistencias reales\n",
      "Error RA vs RIA: 6.25 %\n",
      "Error RB vs RIB: 6.25 %\n"
     ]
    }
   ],
   "source": [
    "RrA=RealresistanceA()\n",
    "RrB=RealresistanceB()\n",
    "RiA=IdealresistanceA()\n",
    "RiB=IdealresistanceB()\n",
    "print(\"RealresistanceA: \"+str(RrA))\n",
    "print(\"RealresistanceB: \"+str(RrB))\n",
    "print(\"IdealresistanceA: \"+str(RiA))\n",
    "print(\"IdealresistanceB: \"+str(RiB))\n",
    "print(\"Porcentaje de diferencia entre los valores reales\")\n",
    "EAB=(1-(RrA/RrB))*100\n",
    "print(\"Error Between Real resistances: \"+str(EAB)+\" %\")\n",
    "print(\"Porcentaje de diferencia entre las resistencia ideal y las resistencias reales\")\n",
    "EAI=(1-(RiA/RrA))*100\n",
    "EBI=(1-(RiB/RrB))*100\n",
    "print(\"Error RA vs RIA: \"+str(EAI)+\" %\")\n",
    "print(\"Error RB vs RIB: \"+str(EBI)+\" %\")"
   ]
  },
  {
   "cell_type": "markdown",
   "metadata": {},
   "source": [
    "Para las 4 resistencias de centroide comun"
   ]
  },
  {
   "cell_type": "code",
   "execution_count": 17,
   "metadata": {
    "collapsed": false
   },
   "outputs": [
    {
     "name": "stdout",
     "output_type": "stream",
     "text": [
      "RealresistanceA: 384.0\n",
      "RealresistanceB: 384.0\n",
      "RealresistanceC: 384.0\n",
      "RealresistanceD: 384.0\n",
      "IdealresistanceA: 360.0\n",
      "IdealresistanceB: 360.0\n",
      "IdealresistanceC: 360.0\n",
      "IdealresistanceD: 360.0\n",
      "Porcentaje de diferencia entre los valores reales\n",
      "Error Between Real resistances:\n",
      "-2.22044604925e-14 %\n",
      "-2.22044604925e-14 %\n",
      "-2.22044604925e-14 %\n",
      "-2.22044604925e-14 %\n",
      "0.0 %\n",
      "-2.22044604925e-14 %\n",
      "Porcentaje de diferencia entre las resistencia ideal y las resistencias reales\n",
      "Error RA vs RIA: 6.25 %\n",
      "Error RB vs RIB: 6.25 %\n"
     ]
    }
   ],
   "source": [
    "RrA=RealresistanceA()\n",
    "RrB=RealresistanceB()\n",
    "RrC=RealresistanceC()\n",
    "RrD=RealresistanceD()\n",
    "RiA=IdealresistanceA()\n",
    "RiB=IdealresistanceB()\n",
    "RiC=IdealresistanceC()\n",
    "RiD=IdealresistanceD()\n",
    "print(\"RealresistanceA: \"+str(RrA))\n",
    "print(\"RealresistanceB: \"+str(RrB))\n",
    "print(\"RealresistanceC: \"+str(RrC))\n",
    "print(\"RealresistanceD: \"+str(RrD))\n",
    "print(\"IdealresistanceA: \"+str(RiA))\n",
    "print(\"IdealresistanceB: \"+str(RiB))\n",
    "print(\"IdealresistanceC: \"+str(RiC))\n",
    "print(\"IdealresistanceD: \"+str(RiD))\n",
    "print(\"Porcentaje de diferencia entre los valores reales\")\n",
    "EAB=(1-(RrA/RrB))*100\n",
    "EAC=(1-(RrA/RrC))*100\n",
    "EAD=(1-(RrA/RrD))*100\n",
    "ECB=(1-(RrC/RrB))*100\n",
    "ECD=(1-(RrC/RrD))*100\n",
    "EDB=(1-(RrD/RrB))*100\n",
    "print(\"Error Between Real resistances:\")\n",
    "print(str(EAB)+\" %\")\n",
    "print(str(EAC)+\" %\")\n",
    "print(str(EAD)+\" %\")\n",
    "print(str(ECB)+\" %\")\n",
    "print(str(ECD)+\" %\")\n",
    "print(str(EDB)+\" %\")\n",
    "\n",
    "print(\"Porcentaje de diferencia entre las resistencia ideal y las resistencias reales\")\n",
    "EAI=(1-(RiA/RrA))*100\n",
    "EBI=(1-(RiB/RrB))*100\n",
    "print(\"Error RA vs RIA: \"+str(EAI)+\" %\")\n",
    "print(\"Error RB vs RIB: \"+str(EBI)+\" %\")"
   ]
  },
  {
   "cell_type": "code",
   "execution_count": 11,
   "metadata": {
    "collapsed": false
   },
   "outputs": [],
   "source": []
  }
 ],
 "metadata": {
  "anaconda-cloud": {},
  "kernelspec": {
   "display_name": "Python [Root]",
   "language": "python",
   "name": "Python [Root]"
  },
  "language_info": {
   "codemirror_mode": {
    "name": "ipython",
    "version": 3
   },
   "file_extension": ".py",
   "mimetype": "text/x-python",
   "name": "python",
   "nbconvert_exporter": "python",
   "pygments_lexer": "ipython3",
   "version": "3.5.2"
  }
 },
 "nbformat": 4,
 "nbformat_minor": 0
}
