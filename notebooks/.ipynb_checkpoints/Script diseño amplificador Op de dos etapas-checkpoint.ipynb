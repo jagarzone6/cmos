{
 "cells": [
  {
   "cell_type": "markdown",
   "metadata": {},
   "source": [
    "Diseño del Ampl Operacionalde dos etapas"
   ]
  },
  {
   "cell_type": "markdown",
   "metadata": {},
   "source": [
    "PARAMETROS DE DISEÑO:"
   ]
  },
  {
   "cell_type": "code",
   "execution_count": 321,
   "metadata": {
    "collapsed": true
   },
   "outputs": [],
   "source": [
    "SR_o=3/(1e-6)\n",
    "Cl=10e-12\n",
    "Kn=100e-6\n",
    "Kp=50e-6\n",
    "Voutmax=2\n",
    "Voutmin=-2\n",
    "Vinmax=2\n",
    "Vinmin=-1\n",
    "Vdd=2.5\n",
    "Vss=-2.5\n",
    "Vtomax=0.85\n",
    "Vtomin=0.55\n",
    "GB=50e3\n",
    "Lambda2=0.04\n",
    "Lambda3=0.05"
   ]
  },
  {
   "cell_type": "code",
   "execution_count": 322,
   "metadata": {
    "collapsed": false
   },
   "outputs": [
    {
     "data": {
      "text/plain": [
       "6000000.0"
      ]
     },
     "execution_count": 322,
     "metadata": {},
     "output_type": "execute_result"
    }
   ],
   "source": [
    "SR=SR_o*2\n",
    "SR"
   ]
  },
  {
   "cell_type": "code",
   "execution_count": 323,
   "metadata": {
    "collapsed": false
   },
   "outputs": [
    {
     "data": {
      "text/plain": [
       "2.2e-12"
      ]
     },
     "execution_count": 323,
     "metadata": {},
     "output_type": "execute_result"
    }
   ],
   "source": [
    "Cc_calculado=0.22*Cl\n",
    "Cc_calculado"
   ]
  },
  {
   "cell_type": "code",
   "execution_count": 324,
   "metadata": {
    "collapsed": false
   },
   "outputs": [
    {
     "data": {
      "text/plain": [
       "3.85e-12"
      ]
     },
     "execution_count": 324,
     "metadata": {},
     "output_type": "execute_result"
    }
   ],
   "source": [
    "Cc=Cc_calculado*1.75\n",
    "Cc"
   ]
  },
  {
   "cell_type": "code",
   "execution_count": 325,
   "metadata": {
    "collapsed": false
   },
   "outputs": [
    {
     "data": {
      "text/plain": [
       "2.31e-05"
      ]
     },
     "execution_count": 325,
     "metadata": {},
     "output_type": "execute_result"
    }
   ],
   "source": [
    "I5=SR*Cc\n",
    "I5"
   ]
  },
  {
   "cell_type": "code",
   "execution_count": 326,
   "metadata": {
    "collapsed": false
   },
   "outputs": [
    {
     "data": {
      "text/plain": [
       "1.155e-05"
      ]
     },
     "execution_count": 326,
     "metadata": {},
     "output_type": "execute_result"
    }
   ],
   "source": [
    "I3=I5/2\n",
    "I3"
   ]
  },
  {
   "cell_type": "code",
   "execution_count": 327,
   "metadata": {
    "collapsed": false
   },
   "outputs": [
    {
     "data": {
      "text/plain": [
       "11.54999999999999"
      ]
     },
     "execution_count": 327,
     "metadata": {},
     "output_type": "execute_result"
    }
   ],
   "source": [
    "S3=I5/(Kp*(Vdd-Vinmax-Vtomax+Vtomin)*(Vdd-Vinmax-Vtomax+Vtomin))\n",
    "S3"
   ]
  },
  {
   "cell_type": "code",
   "execution_count": 328,
   "metadata": {
    "collapsed": false
   },
   "outputs": [
    {
     "data": {
      "text/plain": [
       "11.54999999999999"
      ]
     },
     "execution_count": 328,
     "metadata": {},
     "output_type": "execute_result"
    }
   ],
   "source": [
    "S4=S3\n",
    "S4"
   ]
  },
  {
   "cell_type": "code",
   "execution_count": 329,
   "metadata": {
    "collapsed": false
   },
   "outputs": [
    {
     "data": {
      "text/plain": [
       "11"
      ]
     },
     "execution_count": 329,
     "metadata": {},
     "output_type": "execute_result"
    }
   ],
   "source": [
    "import math\n",
    "S3_final=math.floor(S3)\n",
    "S3_final"
   ]
  },
  {
   "cell_type": "code",
   "execution_count": 330,
   "metadata": {
    "collapsed": false
   },
   "outputs": [
    {
     "data": {
      "text/plain": [
       "11"
      ]
     },
     "execution_count": 330,
     "metadata": {},
     "output_type": "execute_result"
    }
   ],
   "source": [
    "S4_final=S3_final\n",
    "S4_final"
   ]
  },
  {
   "cell_type": "code",
   "execution_count": 331,
   "metadata": {
    "collapsed": false
   },
   "outputs": [
    {
     "data": {
      "text/plain": [
       "5000000.0"
      ]
     },
     "execution_count": 331,
     "metadata": {},
     "output_type": "execute_result"
    }
   ],
   "source": [
    "GB_final=GB*100\n",
    "GB_final"
   ]
  },
  {
   "cell_type": "code",
   "execution_count": 332,
   "metadata": {
    "collapsed": false
   },
   "outputs": [
    {
     "data": {
      "text/plain": [
       "0.00012095131716320704"
      ]
     },
     "execution_count": 332,
     "metadata": {},
     "output_type": "execute_result"
    }
   ],
   "source": [
    "Gm1=GB_final*Cc*2*math.pi\n",
    "Gm2=Gm1\n",
    "Gm1"
   ]
  },
  {
   "cell_type": "code",
   "execution_count": 333,
   "metadata": {
    "collapsed": false
   },
   "outputs": [
    {
     "data": {
      "text/plain": [
       "6.332996157365671"
      ]
     },
     "execution_count": 333,
     "metadata": {},
     "output_type": "execute_result"
    }
   ],
   "source": [
    "S1=(Gm1*Gm1)/(2*Kn*I3)\n",
    "S1"
   ]
  },
  {
   "cell_type": "code",
   "execution_count": 334,
   "metadata": {
    "collapsed": false
   },
   "outputs": [
    {
     "data": {
      "text/plain": [
       "6"
      ]
     },
     "execution_count": 334,
     "metadata": {},
     "output_type": "execute_result"
    }
   ],
   "source": [
    "S1_final=math.floor(S1)\n",
    "S1_final\n",
    "S2_final=S1_final\n",
    "S2_final"
   ]
  },
  {
   "cell_type": "code",
   "execution_count": 335,
   "metadata": {
    "collapsed": false
   },
   "outputs": [
    {
     "data": {
      "text/plain": [
       "0.4537858312965143"
      ]
     },
     "execution_count": 335,
     "metadata": {},
     "output_type": "execute_result"
    }
   ],
   "source": [
    "Vds5_sat=Vinmin-Vss-math.sqrt(I5/(Kn*S1_final))-Vtomax\n",
    "Vds5_sat"
   ]
  },
  {
   "cell_type": "code",
   "execution_count": 336,
   "metadata": {
    "collapsed": false
   },
   "outputs": [
    {
     "data": {
      "text/plain": [
       "2.2435725214525917"
      ]
     },
     "execution_count": 336,
     "metadata": {},
     "output_type": "execute_result"
    }
   ],
   "source": [
    "S5=(2*I5)/(Kn*Vds5_sat*Vds5_sat)\n",
    "S5"
   ]
  },
  {
   "cell_type": "code",
   "execution_count": 337,
   "metadata": {
    "collapsed": false
   },
   "outputs": [
    {
     "data": {
      "text/plain": [
       "2"
      ]
     },
     "execution_count": 337,
     "metadata": {},
     "output_type": "execute_result"
    }
   ],
   "source": [
    "S5_final=math.floor(S5)\n",
    "S5_final"
   ]
  },
  {
   "cell_type": "code",
   "execution_count": 338,
   "metadata": {
    "collapsed": false,
    "scrolled": false
   },
   "outputs": [
    {
     "data": {
      "text/plain": [
       "0.0012095131716320703"
      ]
     },
     "execution_count": 338,
     "metadata": {},
     "output_type": "execute_result"
    }
   ],
   "source": [
    "Gm6=Gm1*10\n",
    "Gm6"
   ]
  },
  {
   "cell_type": "code",
   "execution_count": 339,
   "metadata": {
    "collapsed": false
   },
   "outputs": [
    {
     "data": {
      "text/plain": [
       "0.00013304644887952773"
      ]
     },
     "execution_count": 339,
     "metadata": {},
     "output_type": "execute_result"
    }
   ],
   "source": [
    "S6_final=100\n",
    "Gm4=S4_final*Gm6/S6_final\n",
    "Gm4"
   ]
  },
  {
   "cell_type": "code",
   "execution_count": 340,
   "metadata": {
    "collapsed": false
   },
   "outputs": [
    {
     "data": {
      "text/plain": [
       "100.0"
      ]
     },
     "execution_count": 340,
     "metadata": {},
     "output_type": "execute_result"
    }
   ],
   "source": [
    "S6_final=S4_final*Gm6/Gm4\n",
    "S6_final"
   ]
  },
  {
   "cell_type": "code",
   "execution_count": 341,
   "metadata": {
    "collapsed": false
   },
   "outputs": [
    {
     "data": {
      "text/plain": [
       "0.00014629221123514698"
      ]
     },
     "execution_count": 341,
     "metadata": {},
     "output_type": "execute_result"
    }
   ],
   "source": [
    "I6=Gm6*Gm6/(2*Kp*S6_final)\n",
    "I6"
   ]
  },
  {
   "cell_type": "code",
   "execution_count": 342,
   "metadata": {
    "collapsed": false
   },
   "outputs": [
    {
     "data": {
      "text/plain": [
       "12.66599231473134"
      ]
     },
     "execution_count": 342,
     "metadata": {},
     "output_type": "execute_result"
    }
   ],
   "source": [
    "S7=S5_final*(I6/I5)\n",
    "S7"
   ]
  },
  {
   "cell_type": "code",
   "execution_count": 343,
   "metadata": {
    "collapsed": false
   },
   "outputs": [
    {
     "data": {
      "text/plain": [
       "12"
      ]
     },
     "execution_count": 343,
     "metadata": {},
     "output_type": "execute_result"
    }
   ],
   "source": [
    "S7_final=math.floor(S7)\n",
    "S7_final"
   ]
  },
  {
   "cell_type": "code",
   "execution_count": 344,
   "metadata": {
    "collapsed": false
   },
   "outputs": [
    {
     "data": {
      "text/plain": [
       "0.001077961056175735"
      ]
     },
     "execution_count": 344,
     "metadata": {},
     "output_type": "execute_result"
    }
   ],
   "source": [
    "Pdis=(Vdd-Vss)*(3*I5+I6)\n",
    "Pdis"
   ]
  },
  {
   "cell_type": "code",
   "execution_count": 345,
   "metadata": {
    "collapsed": false
   },
   "outputs": [
    {
     "data": {
      "text/plain": [
       "10688.89957778847"
      ]
     },
     "execution_count": 345,
     "metadata": {},
     "output_type": "execute_result"
    }
   ],
   "source": [
    "Av=2*Gm2*Gm6/(I5*(Lambda2+Lambda3)*(Lambda2+Lambda3)*I6)\n",
    "Av"
   ]
  },
  {
   "cell_type": "code",
   "execution_count": 346,
   "metadata": {
    "collapsed": false
   },
   "outputs": [
    {
     "data": {
      "text/plain": [
       "80.57865993786373"
      ]
     },
     "execution_count": 346,
     "metadata": {},
     "output_type": "execute_result"
    }
   ],
   "source": [
    "AV_db=20*math.log10(Av)\n",
    "AV_db"
   ]
  },
  {
   "cell_type": "code",
   "execution_count": 347,
   "metadata": {
    "collapsed": false
   },
   "outputs": [
    {
     "data": {
      "text/plain": [
       "3.2e-06"
      ]
     },
     "execution_count": 347,
     "metadata": {},
     "output_type": "execute_result"
    }
   ],
   "source": [
    "L_base=4*800e-9\n",
    "L_base"
   ]
  },
  {
   "cell_type": "code",
   "execution_count": 348,
   "metadata": {
    "collapsed": false
   },
   "outputs": [
    {
     "data": {
      "text/plain": [
       "1.92e-05"
      ]
     },
     "execution_count": 348,
     "metadata": {},
     "output_type": "execute_result"
    }
   ],
   "source": [
    "W1=S1_final*L_base\n",
    "L1=L_base\n",
    "W1"
   ]
  },
  {
   "cell_type": "code",
   "execution_count": 349,
   "metadata": {
    "collapsed": false
   },
   "outputs": [
    {
     "data": {
      "text/plain": [
       "3.2e-06"
      ]
     },
     "execution_count": 349,
     "metadata": {},
     "output_type": "execute_result"
    }
   ],
   "source": [
    "L1"
   ]
  },
  {
   "cell_type": "code",
   "execution_count": 350,
   "metadata": {
    "collapsed": false
   },
   "outputs": [
    {
     "data": {
      "text/plain": [
       "1.92e-05"
      ]
     },
     "execution_count": 350,
     "metadata": {},
     "output_type": "execute_result"
    }
   ],
   "source": [
    "W2=S2_final*L_base\n",
    "L2=L_base\n",
    "W2"
   ]
  },
  {
   "cell_type": "code",
   "execution_count": 351,
   "metadata": {
    "collapsed": false
   },
   "outputs": [
    {
     "data": {
      "text/plain": [
       "3.2e-06"
      ]
     },
     "execution_count": 351,
     "metadata": {},
     "output_type": "execute_result"
    }
   ],
   "source": [
    "L2"
   ]
  },
  {
   "cell_type": "code",
   "execution_count": 352,
   "metadata": {
    "collapsed": false
   },
   "outputs": [
    {
     "data": {
      "text/plain": [
       "3.52e-05"
      ]
     },
     "execution_count": 352,
     "metadata": {},
     "output_type": "execute_result"
    }
   ],
   "source": [
    "W3=S3_final*L_base\n",
    "L3=L_base\n",
    "W3"
   ]
  },
  {
   "cell_type": "code",
   "execution_count": 353,
   "metadata": {
    "collapsed": false
   },
   "outputs": [
    {
     "data": {
      "text/plain": [
       "3.2e-06"
      ]
     },
     "execution_count": 353,
     "metadata": {},
     "output_type": "execute_result"
    }
   ],
   "source": [
    "L3"
   ]
  },
  {
   "cell_type": "code",
   "execution_count": 354,
   "metadata": {
    "collapsed": false
   },
   "outputs": [
    {
     "data": {
      "text/plain": [
       "3.52e-05"
      ]
     },
     "execution_count": 354,
     "metadata": {},
     "output_type": "execute_result"
    }
   ],
   "source": [
    "W4=S4_final*L_base\n",
    "L4=L_base\n",
    "W4"
   ]
  },
  {
   "cell_type": "code",
   "execution_count": 355,
   "metadata": {
    "collapsed": false
   },
   "outputs": [
    {
     "data": {
      "text/plain": [
       "3.2e-06"
      ]
     },
     "execution_count": 355,
     "metadata": {},
     "output_type": "execute_result"
    }
   ],
   "source": [
    "L4"
   ]
  },
  {
   "cell_type": "code",
   "execution_count": 356,
   "metadata": {
    "collapsed": false
   },
   "outputs": [
    {
     "data": {
      "text/plain": [
       "6.4e-06"
      ]
     },
     "execution_count": 356,
     "metadata": {},
     "output_type": "execute_result"
    }
   ],
   "source": [
    "W5=S5_final*L_base\n",
    "L5=L_base\n",
    "W5"
   ]
  },
  {
   "cell_type": "code",
   "execution_count": 357,
   "metadata": {
    "collapsed": false
   },
   "outputs": [
    {
     "data": {
      "text/plain": [
       "0.00031999999999999997"
      ]
     },
     "execution_count": 357,
     "metadata": {},
     "output_type": "execute_result"
    }
   ],
   "source": [
    "W6=S6_final*L_base\n",
    "L6=L_base\n",
    "W6"
   ]
  },
  {
   "cell_type": "code",
   "execution_count": 358,
   "metadata": {
    "collapsed": false
   },
   "outputs": [
    {
     "data": {
      "text/plain": [
       "3.84e-05"
      ]
     },
     "execution_count": 358,
     "metadata": {},
     "output_type": "execute_result"
    }
   ],
   "source": [
    "W7=S7_final*L_base\n",
    "L7=L_base\n",
    "W7"
   ]
  },
  {
   "cell_type": "code",
   "execution_count": 359,
   "metadata": {
    "collapsed": false
   },
   "outputs": [],
   "source": [
    "import sys\n",
    "import fileinput\n",
    "def modificar_cir_Op_Amp_Two_Stages(W1,W2,W3,W4,W5,W6,W7,W8,L,Cc,I5):\n",
    "    text=\"* Simulación Circuito Amplificador Operacional de dos etapas\"+\"\\n\"+ \\\n",
    "    \"* Universidad Nacional de Colombia 2016\"+\"\\n\"+ \\\n",
    "    \"* CMOS Analógico\"+\"\\n\"+ \\\n",
    "    \"* Grupo Jorge Garzón, Esteban Iafrancesco A\"+\"\\n\"+ \\\n",
    "    \"\\n\"+\\\n",
    "    \"Vdd_1 Vdd_1 0 DC 2.5 AC 0\"+\"\\n\"+\\\n",
    "    \"Vss_1 Vss_1 0 DC -2.5 AC 0\"+\"\\n\"+\"\\n\"+\\\n",
    "    \"Vin2_1 vinM2_1 0 DC 0 AC 0\"+\"\\n\"+\\\n",
    "    \"////////////------////////////////////\"+\"\\n\"+\\\n",
    "    \"*Circuito del amplificador operacional de dos etapas\"+\"\\n\"+\\\n",
    "    \"M1_1 drainM1_1 vinM1_1 sourceM1_1 sourceM1_1 nmoslevel3 W=\"+str(W1)+\" L=\"+str(L)+\"\\n\"+\\\n",
    "    \"M2_1 drainM2_1 vinM2_1 sourceM1_1 sourceM1_1 nmoslevel3 W=\"+str(W2)+\" L=\"+str(L)+\"\\n\"+\\\n",
    "    \"\\n\"+\\\n",
    "    \"M3_1 drainM1_1 drainM1_1 Vdd_1 Vdd_1 pmoslevel3 W=\"+str(W3)+\" L=\"+str(L)+\"\\n\"+\\\n",
    "    \"M4_1 drainM2_1 drainM1_1 Vdd_1 Vdd_1 pmoslevel3 W=\"+str(W4)+\" L=\"+str(L)+\"\\n\"+\\\n",
    "    \"\\n\"+\\\n",
    "    \"M5_1 sourceM1_1 vbiasM5_1 Vss_1 Vss_1 nmoslevel3 W=\"+str(W5)+\" L=\"+str(L)+\"\\n\"+\\\n",
    "    \"\\n\"+\\\n",
    "    \"M6_1 vout_1 drainM2_1 Vdd_1 Vdd_1 pmoslevel3 W=\"+str(W6)+\" L=\"+str(L)+\"\\n\"+\\\n",
    "    \"\\n\"+\\\n",
    "    \"M7_1 vout_1 vbiasM5_1 Vss_1 Vss_1 nmoslevel3 W=\"+str(W7)+\" L=\"+str(L)+\"\\n\"+\\\n",
    "    \"\\n\"+\\\n",
    "    \"Cl_1 vout_1 0 10p\"+\"\\n\"+\\\n",
    "    \"Cc_1 vout_1 drainM2_1 \"+str(Cc)+\"\\n\"+\\\n",
    "    \"////////////------////////////////////\"+\"\\n\"+\\\n",
    "    \"*Circuito del multiplicador beta\"+\"\\n\"+\\\n",
    "    \"*M1_1 vbiasM5_1 vbiasM5_1 Vss_1 Vss_1 nmoslevel3 W=8u L=1.6u\"+\"\\n\"+\\\n",
    "    \"*M2_1 drainMB2_1 vbiasM5_1 RBref_1 Vss_1 nmoslevel3 W=8u L=1.6u\"+\"\\n\"+\\\n",
    "    \"*RBref_1 RBref_1 Vss_1 6500\"+\"\\n\"+\\\n",
    "    \"*M3_1 vbiasM5_1 drainMB2_1 Vdd_1 Vdd_1 pmoslevel3 W=12u L=1.6u\"+\"\\n\"+\\\n",
    "    \"*M4_1 drainMB2_1 drainMB2_1 Vdd_1 Vdd_1 pmoslevel3 W=12u L=1.6u\"+\"\\n\"+\\\n",
    "    \"\\n\"+\\\n",
    "    \"////////////------////////////////////\"+\"\\n\"+\\\n",
    "    \"*Circuito espejo ideal\"+\"\\n\"+\\\n",
    "    \"*Iref Espejo N de \"+str(I5)+\" Amps\"+\"\\n\"+\\\n",
    "    \"Iref_1 0 vbiasM5_1 DC \"+str(I5)+\" AC 0\"+\"\\n\"+\\\n",
    "    \"M8_1 vbiasM5_1 vbiasM5_1 Vss_1 Vss_1 nmoslevel3 W=\"+str(W5)+\" L=\"+str(L)+\"\\n\"+\\\n",
    "    \"\\n\"+\\\n",
    "    \"*Fuente AC en vinM1_1\"+\"\\n\"+\\\n",
    "    \"Vinac_1 vinM1_1 0 sin(0 0.00005 1k) dc=0 ac=0.00005\"+\"\\n\"+\\\n",
    "    \"\\n\"+\\\n",
    "    \"* Modelos para tecnología 0.8u < L < 200u 10u < W < 10000u  Vdd=2.5V (Allen)\"+\"\\n\"+\\\n",
    "    \"* lambda cambia de acuerdo con la longitud del canal\"+\"\\n\"+\\\n",
    "    \"* nMOS: lambda=0.04 para L=1u y lambda=0.01 para L=2u\"+\"\\n\"+\\\n",
    "    \"* pMOS: lambda=0.05 para L=1u y lambda=0.01 para L=2u\"+\"\\n\"+\\\n",
    "    \"\\n\"+\\\n",
    "    \".model nmoslevel3 nmos level=2\"+\"\\n\"+\\\n",
    "    \"+ vto = 0.7 kp = 110e-6 gamma = 0.4 phi = 0.7\"+\"\\n\"+\\\n",
    "    \"+ tox = 14e-9 cj = 770e-6 cjsw = 380e-12 mj = 0.5 mjsw = 0.38\"+\"\\n\"+\\\n",
    "    \"+ cgso = 220e-12 cgdo = 220e-12 cgbo = 700e-12\"+\"\\n\"+\\\n",
    "    \"+ lambda = 0.04\"+\"\\n\"+\\\n",
    "    \"\\n\"+\\\n",
    "    \".model pmoslevel3 pmos level=2\"+\"\\n\"+\\\n",
    "    \"+ vto = -0.7 kp = 50e-6 gamma = 0.57 phi = 0.8\"+\"\\n\"+\\\n",
    "    \"+ tox = 14e-9 cj = 560e-6 cjsw = 350e-12 mj = 0.5 mjsw = 0.35\"+\"\\n\"+\\\n",
    "    \"+ cgso = 220e-12 cgdo = 220e-12 cgbo = 700e-12\"+\"\\n\"+\\\n",
    "    \"+ lambda = 0.05\"+\"\\n\"+\\\n",
    "    \"\\n\"+\\\n",
    "    \".control\"+\"\\n\"+\\\n",
    "    \"set color0 =white\"+\"\\n\"+\\\n",
    "    \"set color1=black\"+\"\\n\"+\\\n",
    "    \"op\"+\"\\n\"+\\\n",
    "    \"show all\"+\"\\n\"+\\\n",
    "    \"\\n\"+\\\n",
    "    \"*Ganacia en AC barrido en frecuencia vout/vin AC\"+\"\\n\"+\\\n",
    "    \"ac dec 10 1 10ghz\"+\"\\n\"+\\\n",
    "    \"\\n\"+\\\n",
    "    \"*Ganancia en decibeles\"+\"\\n\"+\\\n",
    "    \"plot db(mag(v(vout_1))/mag(v(vinM1_1)))\"+\"\\n\"+\\\n",
    "    \"*Ganancia en magnitud V/V\"+\"\\n\"+\\\n",
    "    \"plot mag(v(vout_1))/mag(v(vinM1_1))\"+\"\\n\"+\\\n",
    "    \"*phase plot Vout/vin\"+\"\\n\"+\\\n",
    "    \"plot ph(v(vout_1)/v(vinM1_1))*360/(2*pi)\"+\"\\n\"+\\\n",
    "    \"\\n\"+\\\n",
    "    \"*Transitorio\"+\"\\n\"+\\\n",
    "    \"tran .00001s .01s\"+\"\\n\"+\\\n",
    "    \"plot v(vout_1)\"+\"\\n\"+\\\n",
    "    \"plot v(vinM1_1)\"+\"\\n\"+\\\n",
    "    \".endc\"+\"\\n\"\n",
    "    for i, line in enumerate(fileinput.input('../spice-simulations/Script-Op-Amplifier-Two-Stages.cir', inplace=1)):\n",
    "        if i == 1: sys.stdout.write(text) # replace 'sit' and write\n",
    "    fileinput.close()"
   ]
  },
  {
   "cell_type": "code",
   "execution_count": 360,
   "metadata": {
    "collapsed": false
   },
   "outputs": [],
   "source": [
    "modificar_cir_Op_Amp_Two_Stages(W1,W2,W3,W4,W5,W6,W7,W5,L_base,Cc,I5)"
   ]
  },
  {
   "cell_type": "code",
   "execution_count": null,
   "metadata": {
    "collapsed": true
   },
   "outputs": [],
   "source": []
  }
 ],
 "metadata": {
  "anaconda-cloud": {},
  "kernelspec": {
   "display_name": "Python [Root]",
   "language": "python",
   "name": "Python [Root]"
  },
  "language_info": {
   "codemirror_mode": {
    "name": "ipython",
    "version": 3
   },
   "file_extension": ".py",
   "mimetype": "text/x-python",
   "name": "python",
   "nbconvert_exporter": "python",
   "pygments_lexer": "ipython3",
   "version": "3.5.2"
  }
 },
 "nbformat": 4,
 "nbformat_minor": 0
}
