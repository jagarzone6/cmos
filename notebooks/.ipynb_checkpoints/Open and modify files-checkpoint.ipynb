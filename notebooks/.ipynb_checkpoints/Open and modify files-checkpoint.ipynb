{
 "cells": [
  {
   "cell_type": "markdown",
   "metadata": {},
   "source": [
    "# Open and modify files with python"
   ]
  },
  {
   "cell_type": "code",
   "execution_count": 45,
   "metadata": {
    "collapsed": false
   },
   "outputs": [],
   "source": [
    "import sys\n",
    "import fileinput\n",
    "num=234e-6\n",
    "n_found=0\n",
    "text=\"* Simulación Circuito Espejo de Corriente con Ncmos, valores reales de Kp_n y Vt\"+\"\\n\"+ \\\n",
    "\"* Universidad Nacional de Colombia 2016\"+\"\\n\"+ \\\n",
    "\"* CMOS Analógico\"+\"\\n\"+ \\\n",
    "\"* Grupo Jorge Garzón, Esteban Iafrancesco A\"+\"\\n\"+ \\\n",
    "\"\\n\"+\\\n",
    "\"VDD VDD 0 DC 10 AC 0\"+\"\\n\"+\\\n",
    "\"V2 VR 0 DC 10 AC 0\"+\"\\n\"+\\\n",
    "\"VRD RDN VR DC 0 AC 0\"+\"\\n\"+\\\n",
    "\"RD RDN DRAIN 1000\"+\"\\n\"+\\\n",
    "\"RP VDD GATE 2000\"+\"\\n\"+\\\n",
    "\"M1 DRAIN GATE 0 0 nmos W=60 L=2\"+\"\\n\"+\\\n",
    "\"M2 GATE GATE 0 0 nmos W=60 L=2\"+\"\\n\"+\\\n",
    "\"\\n\"+\\\n",
    "\"VRD2 RDN2 VR DC 0 AC 0\"+\"\\n\"+\\\n",
    "\"RD2 RDN2 DRAIN2 1000\"+\"\\n\"+\\\n",
    "\"RP2 VDD GATE2 2000\"+\"\\n\"+\\\n",
    "\"M3 DRAIN2 GATE2 0 0 nmos2 W=60 L=2\"+\"\\n\"+\\\n",
    "\"M4 GATE2 GATE2 0 0 nmos2 W=60 L=2\"+\"\\n\"+\\\n",
    "\"\\n\"+\\\n",
    "\".model nmos nmos LEVEL=1 Vto=0.8 KP=120u LAMBDA=0.01 U0=650\"+\"\\n\"+\\\n",
    "\".model nmos2 nmos LEVEL=1 Vto=1.5 KP=130u LAMBDA=0.02 U0=600\"+\"\\n\"+\\\n",
    "\"\\n\"+\\\n",
    "\".control\"+\"\\n\"+\\\n",
    "\"set color0 =white\"+\"\\n\"+\\\n",
    "\"set color1=black\"+\"\\n\"+\\\n",
    "\"op\"+\"\\n\"+\\\n",
    "\"show all\"+\"\\n\"+\\\n",
    "\"dc vdd 0 10 0.01\"+\"\\n\"+\\\n",
    "\"plot i(vrd) i(vrd2)\"+\"\\n\"+\\\n",
    "\".endc\"+\"\\n\"\n",
    "\n",
    "\n",
    "for i, line in enumerate(fileinput.input('../spice-simulations/espejoNmosPythonFile.cir', inplace=1)):\n",
    "    if i == 1: sys.stdout.write(text) # replace 'sit' and write\n",
    "fileinput.close()"
   ]
  },
  {
   "cell_type": "code",
   "execution_count": null,
   "metadata": {
    "collapsed": false
   },
   "outputs": [],
   "source": []
  },
  {
   "cell_type": "code",
   "execution_count": null,
   "metadata": {
    "collapsed": true
   },
   "outputs": [],
   "source": [
    "    if line.startswith('0.000234345') == True:\n",
    "        n_found += 1\n",
    "        sys.stdout.write('\\n')\n",
    "        sys.stdout.write(line.replace(line, \".model nmos nmos LEVEL=1 Vto=0.8 KP=120u LAMBDA=0.01 U0=650\"+\"\\n\"))\n",
    "sys.stdout.write('\\n')  # write a blank line after the 5th line\n",
    "sys.stdout.write(line.replace('dsfsdfwewef**', str(num)))  # replace 'sit' and write"
   ]
  }
 ],
 "metadata": {
  "kernelspec": {
   "display_name": "Python 3",
   "language": "python",
   "name": "python3"
  },
  "language_info": {
   "codemirror_mode": {
    "name": "ipython",
    "version": 3
   },
   "file_extension": ".py",
   "mimetype": "text/x-python",
   "name": "python",
   "nbconvert_exporter": "python",
   "pygments_lexer": "ipython3",
   "version": "3.5.1"
  }
 },
 "nbformat": 4,
 "nbformat_minor": 0
}
