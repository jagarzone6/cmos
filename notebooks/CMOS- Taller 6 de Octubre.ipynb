{
 "cells": [
  {
   "cell_type": "markdown",
   "metadata": {},
   "source": [
    "# CMOS - Taller 6 de OCtubre"
   ]
  },
  {
   "cell_type": "markdown",
   "metadata": {},
   "source": [
    "# Simulacion del circuito de la figura 20,15 (Beta-Multiplier)"
   ]
  },
  {
   "cell_type": "code",
   "execution_count": 1,
   "metadata": {
    "collapsed": false
   },
   "outputs": [
    {
     "data": {
      "text/html": [
       "<img src=\"images/taller-oct-6/fig-20-15.png\"/>"
      ],
      "text/plain": [
       "<IPython.core.display.Image object>"
      ]
     },
     "metadata": {},
     "output_type": "display_data"
    }
   ],
   "source": [
    "from IPython.core.display import Image, display\n",
    "display(Image(url='images/taller-oct-6/fig-20-15.png'))"
   ]
  },
  {
   "cell_type": "markdown",
   "metadata": {},
   "source": [
    "Caracteristicas usadas en las simulaciones:"
   ]
  },
  {
   "cell_type": "markdown",
   "metadata": {},
   "source": [
    "- NIVEL=3, canal largo, tabla 9.1"
   ]
  },
  {
   "cell_type": "code",
   "execution_count": 2,
   "metadata": {
    "collapsed": false
   },
   "outputs": [
    {
     "data": {
      "text/html": [
       "<img src=\"images/taller-oct-6/long-channel-mosfet.png\"/>"
      ],
      "text/plain": [
       "<IPython.core.display.Image object>"
      ]
     },
     "metadata": {},
     "output_type": "display_data"
    }
   ],
   "source": [
    "from IPython.core.display import Image, display\n",
    "display(Image(url='images/taller-oct-6/long-channel-mosfet.png'))"
   ]
  },
  {
   "cell_type": "code",
   "execution_count": 3,
   "metadata": {
    "collapsed": false
   },
   "outputs": [
    {
     "data": {
      "text/html": [
       "<img src=\"images/taller-oct-6/table-9-1.png\"/>"
      ],
      "text/plain": [
       "<IPython.core.display.Image object>"
      ]
     },
     "metadata": {},
     "output_type": "display_data"
    }
   ],
   "source": [
    "from IPython.core.display import Image, display\n",
    "display(Image(url='images/taller-oct-6/table-9-1.png'))"
   ]
  },
  {
   "cell_type": "markdown",
   "metadata": {
    "collapsed": true
   },
   "source": [
    "# Simulacion en NGSPICE"
   ]
  },
  {
   "cell_type": "markdown",
   "metadata": {},
   "source": [
    "Archivo Fig-20-15-LEVEL-3.cir"
   ]
  },
  {
   "cell_type": "raw",
   "metadata": {},
   "source": [
    "*** SPICE deck for cell Current_mirror_bias_SIM{lay} from library Fig-20-25-Sim\n",
    "*** Created on Mon Oct 03, 2016 16:39:04\n",
    "*** Last revised on Tue Oct 04, 2016 17:51:26\n",
    "*** Written on Tue Oct 04, 2016 18:37:27 by Electric VLSI Design System, version 9.06\n",
    "*** Layout tech: mocmos, foundry MOSIS\n",
    "*** UC SPICE *** , MIN_RESIST 4.0, MIN_CAPAC 0.1FF\n",
    "\n",
    "*** SUBCIRCUIT Fig-20-25-Sim__Current_mirror_bias FROM CELL Current_mirror_bias{lay}\n",
    ".SUBCKT Fig-20-25-Sim__Current_mirror_bias gnd vdd VRL\n",
    "Mnmos@0 gnd net@42 net@46 gnd NMOS L=2U W=10U AS=115P AD=965P PS=63U PD=195U\n",
    "Mnmos@1 gnd net@42 net@42 gnd NMOS L=2U W=10U AS=210P AD=965P PS=87.667U PD=195U\n",
    "Mnmos@3 net@42 net@46 net@40 gnd NMOS L=2U W=10U AS=418.333P AD=210P PS=132.333U PD=87.667U\n",
    "Mnmos@4 VRL net@42 net@40 gnd NMOS L=2U W=40U AS=418.333P AD=740P PS=132.333U PD=197U\n",
    "Mpmos@0 net@46 net@46 vdd vdd PMOS L=100U W=10U AS=728.333P AD=115P PS=167.667U PD=63U\n",
    "Mpmos@1 net@42 net@40 vdd vdd PMOS L=2U W=30U AS=728.333P AD=210P PS=167.667U PD=87.667U\n",
    "Mpmos@2 net@40 net@40 vdd vdd PMOS L=2U W=30U AS=728.333P AD=418.333P PS=167.667U PD=132.333U\n",
    "\n",
    "* Spice Code nodes in cell cell 'Current_mirror_bias{lay}'\n",
    ".model RMODEL r RSH=1.2k\n",
    "Rload VRL gnd RMODEL L=56u W=10u\n",
    ".ENDS Fig-20-25-Sim__Current_mirror_bias\n",
    "\n",
    "*** TOP LEVEL CELL: Current_mirror_bias_SIM{lay}\n",
    "XCurrent_@0 gnd vdd VRL Fig-20-25-Sim__Current_mirror_bias\n",
    "\n",
    "* Spice Code nodes in cell cell 'Current_mirror_bias_SIM{lay}'\n",
    "Vdd VDD gnd 5\n",
    ".dc Vdd 0 6 1m\n",
    ".include long_channel_3_models.txt\n",
    ".END\n"
   ]
  },
  {
   "cell_type": "code",
   "execution_count": null,
   "metadata": {
    "collapsed": true
   },
   "outputs": [],
   "source": []
  }
 ],
 "metadata": {
  "kernelspec": {
   "display_name": "Python 3",
   "language": "python",
   "name": "python3"
  },
  "language_info": {
   "codemirror_mode": {
    "name": "ipython",
    "version": 3
   },
   "file_extension": ".py",
   "mimetype": "text/x-python",
   "name": "python",
   "nbconvert_exporter": "python",
   "pygments_lexer": "ipython3",
   "version": "3.5.1"
  }
 },
 "nbformat": 4,
 "nbformat_minor": 0
}
